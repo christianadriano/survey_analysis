{
 "cells": [
  {
   "cell_type": "markdown",
   "metadata": {},
   "source": [
    "# How were you made aware of the opportunity to do a PhD at the HPI?\n",
    "id: C001"
   ]
  },
  {
   "cell_type": "code",
   "execution_count": 1,
   "metadata": {},
   "outputs": [],
   "source": [
    "import pandas as pd\n",
    "import numpy as np\n",
    "\n",
    "question_id = 'C001'\n",
    "#question_title='How were you made aware of the opportunity to do a PhD at the HPI'\n",
    "\n",
    "suffix='.csv'\n",
    "file_path = 'C:/Users/Christian/Documents/GitHub/survey_analysis/'\n",
    "data_path = f'{file_path}data/'\n",
    "\n",
    "#----------------------------------------------------------------\n",
    "#LOAD INDEX (Questions id, Question text, Answer alternatives)\n",
    "index_file_name = \"Index_Questions\"\n",
    "i_dataframe = pd.read_csv(index_file_name)\n",
    "filtered_df = id_dataframe[i_dataframe[\"index\"]==question_id]\n",
    "question_title = filtered_df[\"question\"].value[0] if not filtered_df.empty else None\n",
    "\n",
    "#----------------------------------------------------------------\n",
    "#LOAD FILE\n",
    "sep ='_'\n",
    "suffix='.csv'\n",
    "program_column = 'Enrollment status:'\n",
    "file_path = 'C:/Users/Christian/Documents/GitHub/survey-2023-hpi-international-community/'\n",
    "data_path = f'{file_path}data/'\n",
    "file_name = f'{data_path}{question_id}{sep}{question_title}{suffix}'\n",
    "data_frame = pd.read_csv(file_name)\n",
    "tables_path = f'{file_path}latex_tables/{question_id[:2]}/'\n",
    "tables_file_name = f'{question_id}{sep}{question_title}'\n",
    "\n",
    "#----------------------------------------------------------------\n",
    "#RENAMING \n",
    "#DataFrame Column with \"Options\" instead of Question Text\n",
    "data_frame = data_frame.rename(columns={data_frame.columns[0]: \"Options\"})\n",
    "data_frame = data_frame.rename(columns={data_frame.columns[1]: \"Comments\"})\n",
    "#Make Program name shorter\n",
    "data_frame = data_frame.rename(columns={program_column: \"Enrollment\"})\n",
    "data_frame[\"Enrollment\"] = data_frame[\"Program\"].replace(\"University of Potsdam,Another University,Not Enrolled\")\n",
    "data_frame[\"Enrollment\"] = data_frame[\"Enrollment\"].replace(\"Other\",\"Others\")\n",
    "#--------------\n",
    "\n",
    "# Set the style for aligning columns to the left\n",
    "styles = [\n",
    "    {\n",
    "        'selector': 'th',\n",
    "        'props': [('text-align', 'left')]\n",
    "    },\n",
    "    {\n",
    "        'selector': 'td',\n",
    "        'props': [('text-align', 'left')]\n",
    "    }\n",
    "]\n",
    "\n",
    "# Apply the style to the DataFrame\n",
    "#df_styled = data_frame.style.set_table_styles(styles)\n",
    "#display(df_styled)"
   ]
  },
  {
   "cell_type": "markdown",
   "metadata": {},
   "source": [
    "### Answer count and percentages"
   ]
  },
  {
   "cell_type": "code",
   "execution_count": null,
   "metadata": {},
   "outputs": [],
   "source": [
    "import module_table_writer as table_writer\n",
    "# ALL:\n",
    "latex_table = table_writer.display_value_counts(data_frame, question_id, \n",
    "                                                question_title, filter_value='All', styles=None)\n",
    "table_writer.table_to_file(latex_table,tables_path,tables_file_name)\n",
    "\n",
    "# Filter by Program\n",
    "program_name_array = data_frame['Program'].unique()\n",
    "new_program_array= np.setdiff1d(program_name_array, ['Not answered'])\n",
    "\n",
    "for program_name in new_program_array:\n",
    "    latex_table = table_writer.display_value_counts(data_frame, question_id, question_title, \n",
    "                     filter_column= 'Program', \n",
    "                     filter_value= program_name, \n",
    "                     styles=None)\n",
    "    table_writer.table_to_file(latex_table,tables_path,tables_file_name)\n"
   ]
  },
  {
   "cell_type": "markdown",
   "metadata": {},
   "source": [
    "### Free text answers"
   ]
  },
  {
   "cell_type": "code",
   "execution_count": null,
   "metadata": {},
   "outputs": [],
   "source": [
    "df_text = pd.DataFrame(data_frame[['Comments','Program']]).dropna()\n",
    "df_text = df_text.sort_values(by=['Program'])\n",
    "#df_styled = df_text.style.set_table_styles(styles)\n",
    "\n",
    "table_caption=f'Comments for {question_id}-{question_title}'\n",
    "label_name = f'{question_id}-FreeText_table'\n",
    "latex_table = df_text.to_latex(index=False,\n",
    "                               caption=table_caption, \n",
    "                               label=label_name,\n",
    "                               column_format='@{}p{0.65\\\\textwidth}p{0.35\\\\textwidth}')\n",
    "\n",
    "table_writer.table_to_file(latex_table,tables_path,tables_file_name)\n"
   ]
  },
  {
   "cell_type": "markdown",
   "metadata": {},
   "source": [
    "### Making sense of the data\n",
    "\n",
    "#### Surprising findings:\n",
    "- Number of recommendations from friends and colleagues (maybe a program to incentivize that?)\n",
    "- Web pages or search amounts to more than 34%, which is also surprising.\n",
    "- Low proportion on directed/planned initiatives like conferences and magazines."
   ]
  }
 ],
 "metadata": {
  "kernelspec": {
   "display_name": "dly_env",
   "language": "python",
   "name": "python3"
  },
  "language_info": {
   "codemirror_mode": {
    "name": "ipython",
    "version": 3
   },
   "file_extension": ".py",
   "mimetype": "text/x-python",
   "name": "python",
   "nbconvert_exporter": "python",
   "pygments_lexer": "ipython3",
   "version": "3.11.5"
  },
  "orig_nbformat": 4
 },
 "nbformat": 4,
 "nbformat_minor": 2
}
