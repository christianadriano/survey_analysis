{
 "cells": [
  {
   "cell_type": "markdown",
   "metadata": {},
   "source": [
    "## question id: F010"
   ]
  },
  {
   "cell_type": "code",
   "execution_count": 8,
   "metadata": {},
   "outputs": [
    {
     "name": "stdout",
     "output_type": "stream",
     "text": [
      "ID:F010, Question Title:How often would you like to present your work?\n",
      "{'F010': 'Multiple choice '}\n"
     ]
    }
   ],
   "source": [
    "import pandas as pd\n",
    "import configparser\n",
    "import module_table_writer as tw\n",
    "import module_data_wrangling as dw\n",
    "\n",
    "question_id = 'F010'\n",
    "selected_level = {1:'once a week',2:'biweekly',3:'every two months',4:'quarterly',5:'once a year',6:'other'}\n",
    "\n",
    "#Enrolled demographic\n",
    "enrolled_column_key = 'B003'\n",
    "enrolled_column_name = 'Enrolled'\n",
    "enrolled_dictionary = {'0':'Enrolled','B003_01':'Intend to enroll','B003_02':'Intend to re-enroll'}  \n",
    "# B003_05: Do not intend to finish the PhD -> only two people and answers are mostly empty, so I removed.\n",
    "\n",
    "#Gender demographic\n",
    "gender_column_key = 'B004'\n",
    "gender_column_name = 'Gender'\n",
    "gender_dictionary = {1:'Female',2:'Male'}\n",
    "#3:'Non-binary' no one selected this option\n",
    "#4:'Diverse' only one person selected this option\n",
    "\n",
    "#Year at HPI demographic\n",
    "years_at_HPI_column_key = 'B006'\n",
    "years_at_HPI_column_name = 'Years at HPI'\n",
    "years_at_HPI_dictionary = {'B006_01':'1 year or less','B006_02':'2 years','B006_03':'3 years','B006_04':'More than 4 years'}\n",
    "\n",
    "#Citizenship demographic\n",
    "citizenship_column_key = 'B007'\n",
    "citizenship_column_name = 'Citizenship'\n",
    "citizenship_dictionary = {1:'Germany',2:'EU',3:'Non-EU'}\n",
    "\n",
    "#-----------------------------------------------------------------\n",
    "# LOAD CONFIGURATION FILE\n",
    "config = configparser.ConfigParser()\n",
    "config.read('config.ini')\n",
    "project_path = config['file.loading']['project_path']\n",
    "data_folder = config['file.loading']['data_folder']\n",
    "latex_tables_folder = config['file.loading']['latex_tables_folder']\n",
    "question_index_file = config['file.loading']['question_index_file']\n",
    "data_file = config['file.loading']['data_file']\n",
    "sep = config['file.loading']['sep']\n",
    "\n",
    "#----------------------------------------------------------------\n",
    "#LOAD QUESTION INDEX (Questions id, Question text, Answer alternatives, Details)\n",
    "question_index_path = f'{project_path}/{data_folder}/{question_index_file}'\n",
    "#print(question_index_path)\n",
    "id_data_frame = pd.read_csv(question_index_path,encoding = 'ISO-8859-1')\n",
    "filtered_index_df = id_data_frame[id_data_frame['ID']==question_id]\n",
    "question_title = filtered_index_df['Question'].iloc[0]\n",
    "\n",
    "print('ID:'+question_id+', Question Title:' + question_title)\n",
    "\n",
    "#extract the answer options for this question (it is a column)\n",
    "options_dict = dw.generate_options_dictionary(filtered_index_df,'Alternatives')\n",
    "\n",
    "#----------------------------------------------------------------\n",
    "#LOAD DATA FILE AND FILTER NECESSARY COLUMNS\n",
    "file_name_path = f'{project_path}/{data_folder}/{data_file}'\n",
    "original_data_frame = pd.read_csv(file_name_path,encoding = 'ISO-8859-1')\n",
    "\n",
    "my_list = [enrolled_column_key, gender_column_key, years_at_HPI_column_key, citizenship_column_key, question_id]\n",
    "\n",
    "# Get a list of all keys\n",
    "options_code_list = list(selected_level.keys())\n",
    "options_names_list = list(selected_level.values())\n",
    "\n",
    "selected_columns = my_list \n",
    "\n",
    "# Create a new DataFrame with only the selected columns\n",
    "data_frame = original_data_frame[selected_columns]\n",
    "\n",
    "#----------------------------------------------------------------\n",
    "#CREATE LATEX TABLE FILE\n",
    "tables_path = f'{project_path}/{latex_tables_folder}/{question_id[:2]}/'\n",
    "tables_file_name = f'{question_id}'\n"
   ]
  },
  {
   "cell_type": "markdown",
   "metadata": {},
   "source": [
    "#### All (no filter)"
   ]
  },
  {
   "cell_type": "code",
   "execution_count": null,
   "metadata": {},
   "outputs": [],
   "source": [
    "#ALL\n",
    "\n",
    "count_df = dw.percentage_options_single_column(df_data=data_frame,\n",
    "                                column_name = question_id,\n",
    "                                options_names=options_names_list,\n",
    "                                options_codes=options_code_list)\n",
    "\n",
    "if(count_df.size > 0):\n",
    "    print('Table for '+'All')\n",
    "    count_df = count_df.rename(columns={count_df.columns[0]: 'Answers'})\n",
    "    display(count_df)\n",
    "    latex_table = tw.write_latex_table(data_df=count_df, \n",
    "                                    show_index=False,\n",
    "                                    filter_name='', \n",
    "                                    filter_value='All',\n",
    "                                    question_id=question_id, \n",
    "                                    question_title=question_title,\n",
    "                                    column_format='@{}lcc'\n",
    "                                    )\n",
    "else:\n",
    "    print('Table for '+'All is empty')   "
   ]
  },
  {
   "cell_type": "markdown",
   "metadata": {},
   "source": [
    "### Enrollment count and percentages"
   ]
  },
  {
   "cell_type": "code",
   "execution_count": null,
   "metadata": {},
   "outputs": [],
   "source": [
    "tw.filter_write_table_single_column(group_column_key = enrolled_column_key,\n",
    "                    dict_column_names = enrolled_dictionary,\n",
    "                    df = data_frame,\n",
    "                    options_names_list = options_names_list,\n",
    "                    options_code_list = options_code_list,\n",
    "                    question_id =question_id,\n",
    "                    question_title = question_title,\n",
    "                    tables_path = tables_path,\n",
    "                    tables_file_name = tables_file_name,\n",
    "                    filter_name = 'Enrolled status'\n",
    "                    )"
   ]
  },
  {
   "cell_type": "markdown",
   "metadata": {},
   "source": [
    "### Gender Count and percentages"
   ]
  },
  {
   "cell_type": "code",
   "execution_count": null,
   "metadata": {},
   "outputs": [],
   "source": [
    "tw.filter_write_table_single_column(group_column_key = gender_column_key,\n",
    "                    dict_column_names = gender_dictionary,\n",
    "                    df = data_frame,\n",
    "                    options_names_list = options_names_list,\n",
    "                    options_code_list = options_code_list,\n",
    "                    question_id =question_id,\n",
    "                    question_title = question_title,\n",
    "                    tables_path = tables_path,\n",
    "                    tables_file_name = tables_file_name,\n",
    "                    filter_name= 'Gender'\n",
    "                    )"
   ]
  },
  {
   "cell_type": "markdown",
   "metadata": {},
   "source": [
    "### Year at HPI"
   ]
  },
  {
   "cell_type": "code",
   "execution_count": null,
   "metadata": {},
   "outputs": [],
   "source": [
    "tw.filter_write_table_single_column(group_column_key = years_at_HPI_column_key,\n",
    "                    dict_column_names = years_at_HPI_dictionary,\n",
    "                    df = data_frame,\n",
    "                    options_names_list = options_names_list,\n",
    "                    options_code_list = options_code_list,\n",
    "                    question_id =question_id,\n",
    "                    question_title = question_title,\n",
    "                    tables_path = tables_path,\n",
    "                    tables_file_name = tables_file_name,\n",
    "                    filter_name='Years at HPI'\n",
    "                    )"
   ]
  },
  {
   "cell_type": "markdown",
   "metadata": {},
   "source": [
    "### Citizenship count and percentages "
   ]
  },
  {
   "cell_type": "code",
   "execution_count": null,
   "metadata": {},
   "outputs": [],
   "source": [
    "tw.filter_write_table_single_column(group_column_key = citizenship_column_key,\n",
    "                    dict_column_names = citizenship_dictionary,\n",
    "                    df = data_frame,\n",
    "                    options_names_list = options_names_list,\n",
    "                    options_code_list = options_code_list,\n",
    "                    question_id =question_id,\n",
    "                    question_title = question_title,\n",
    "                    tables_path = tables_path,\n",
    "                    tables_file_name = tables_file_name,\n",
    "                    filter_name='Citizenship'\n",
    "                    )"
   ]
  },
  {
   "cell_type": "markdown",
   "metadata": {},
   "source": [
    "### Free text"
   ]
  },
  {
   "cell_type": "code",
   "execution_count": null,
   "metadata": {},
   "outputs": [],
   "source": [
    "#extract the answer options for this question (it is a column)\n",
    "#ft for free-text\n",
    "ft_dict = dw.generate_options_dictionary(filtered_index_df,'Details')\n",
    "ft_column_keys = ft_dict.keys()\n",
    "ft_column_names = ft_dict.values()\n",
    "\n",
    "selected_columns = my_list + list(ft_column_keys)\n",
    "\n",
    "# Create a new DataFrame with only the selected columns\n",
    "ft_data_frame = original_data_frame[selected_columns]\n",
    "\n",
    "#for each option, make a table with all the free text that was provided\n",
    "for column_key in ft_column_keys:\n",
    "    text_df = pd.DataFrame(ft_data_frame[[column_key,enrolled_column_key,gender_column_key,years_at_HPI_column_key,citizenship_column_key]]).dropna()\n",
    "    text_df = text_df.sort_values(by=[enrolled_column_key,gender_column_key,years_at_HPI_column_key,citizenship_column_key])\n",
    "\n",
    "    text_df = dw.replace_code_for_name(text_df,enrolled_column_key,enrolled_dictionary)\n",
    "    text_df = dw.replace_code_for_name(text_df,gender_column_key,gender_dictionary)\n",
    "    text_df = dw.replace_code_for_name(text_df,years_at_HPI_column_key,years_at_HPI_dictionary)\n",
    "    text_df = dw.replace_code_for_name(text_df,citizenship_column_key,citizenship_dictionary)\n",
    "    \n",
    "    #Rename columns before printing\n",
    "    text_df = text_df.rename(columns={text_df.columns[0]: 'Comment',\n",
    "                                      enrolled_column_key: enrolled_column_name,\n",
    "                                      gender_column_key: gender_column_name,\n",
    "                                      years_at_HPI_column_key:years_at_HPI_column_name,\n",
    "                                      citizenship_column_key:citizenship_column_name})\n",
    "    \n",
    "    ft_column_name = ft_dict.get(column_key)\n",
    "    table_caption=f'Comments for {column_key} relative to {ft_column_name} in question: {question_id}-{question_title}'\n",
    "    label_name = f'{question_id}-{column_key}-FreeText_table'\n",
    "    latex_table = text_df.to_latex(index=False,\n",
    "                               caption=table_caption, \n",
    "                               label=label_name,\n",
    "                               column_format='@{}p{0.65\\\\textwidth}p{0.35\\\\textwidth}')\n",
    "    tw.table_to_file(latex_table,tables_path,tables_file_name)\n",
    "    print('Table for '+'\"{}\"'.format(ft_column_name))\n",
    "    display(text_df)"
   ]
  }
 ],
 "metadata": {
  "kernelspec": {
   "display_name": "Python 3",
   "language": "python",
   "name": "python3"
  },
  "language_info": {
   "codemirror_mode": {
    "name": "ipython",
    "version": 3
   },
   "file_extension": ".py",
   "mimetype": "text/x-python",
   "name": "python",
   "nbconvert_exporter": "python",
   "pygments_lexer": "ipython3",
   "version": "3.11.5"
  }
 },
 "nbformat": 4,
 "nbformat_minor": 2
}
