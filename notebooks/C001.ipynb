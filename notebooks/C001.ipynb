{
 "cells": [
  {
   "cell_type": "markdown",
   "metadata": {},
   "source": [
    "id: C001"
   ]
  },
  {
   "cell_type": "code",
   "execution_count": 1,
   "metadata": {},
   "outputs": [
    {
     "name": "stdout",
     "output_type": "stream",
     "text": [
      "ID:C001 Question Title:How were you made aware of the opportunity to do a PhD at the HPI?\n",
      "{'C001_01': 'Web', 'C001_02': 'Newsletters', 'C001_03': 'Academic conferences', 'C001_04': 'Friends/colleagues', 'C001_05': 'I completed my Bachelor/Master at HPI', 'C001_06': 'Other'}\n",
      "   Enrolled  Gender  C001  C001_01  C001_02  C001_03  C001_04  C001_05  \\\n",
      "0         0       2   1.0      2.0      1.0      1.0      1.0      1.0   \n",
      "1         0       1   1.0      1.0      1.0      1.0      2.0      1.0   \n",
      "2         0       2   1.0      1.0      1.0      1.0      2.0      1.0   \n",
      "3         0       2   1.0      2.0      1.0      1.0      1.0      1.0   \n",
      "4         0       2   1.0      1.0      1.0      1.0      2.0      1.0   \n",
      "\n",
      "   C001_06  \n",
      "0      1.0  \n",
      "1      1.0  \n",
      "2      1.0  \n",
      "3      1.0  \n",
      "4      1.0  \n",
      "C:/Users/Christian/Documents/GitHub/survey_analysis/latex_tables/C0/\n",
      "C001\n"
     ]
    }
   ],
   "source": [
    "import pandas as pd\n",
    "import numpy as np\n",
    "import configparser\n",
    "import module_table_writer as table_writer\n",
    "import module_data_wrangling as dw\n",
    "\n",
    "question_id = \"C001\"\n",
    "#question_title='How were you made aware of the opportunity to do a PhD at the HPI?'\n",
    "enrolled_column = \"B003\"\n",
    "gender_column = \"B004\"\n",
    "enrolled_column_name = \"Enrolled\"\n",
    "gender_column_name = \"Gender\"\n",
    "\n",
    "#-----------------------------------------------------------------\n",
    "# LOAD CONFIGURATION FILE\n",
    "\n",
    "config = configparser.ConfigParser()\n",
    "config.read('config.ini')\n",
    "project_path = config['file.loading']['project_path']\n",
    "data_folder = config['file.loading']['data_folder']\n",
    "latex_tables_folder = config['file.loading']['latex_tables_folder']\n",
    "question_index_file = config['file.loading']['question_index_file']\n",
    "data_file = config['file.loading']['data_file']\n",
    "sep = config['file.loading']['sep']\n",
    "\n",
    "#----------------------------------------------------------------\n",
    "#LOAD QUESTION INDEX (Questions id, Question text, Answer alternatives, Details)\n",
    "question_index_path = f'{project_path}/{data_folder}/{question_index_file}'\n",
    "#print(question_index_path)\n",
    "id_data_frame = pd.read_csv(question_index_path,encoding = \"ISO-8859-1\")\n",
    "filtered_df = id_data_frame[id_data_frame['ID']==question_id]\n",
    "question_title = filtered_df['Question'].iloc[0]\n",
    "\n",
    "print(\"ID:\"+question_id+\" Question Title:\" + question_title)\n",
    "\n",
    "options_dict = dw.generate_options_dictionary(filtered_df)\n",
    "\n",
    "#----------------------------------------------------------------\n",
    "#LOAD DATA FILE AND FILTER NECESSARY COLUMNS\n",
    "file_name_path = f'{project_path}/{data_folder}/{data_file}'\n",
    "data_frame = pd.read_csv(file_name_path,encoding = \"ISO-8859-1\")\n",
    "\n",
    "my_list = [enrolled_column, gender_column, question_id]\n",
    "\n",
    "# Get a list of all keys\n",
    "options_columns_list = list(options_dict.keys())\n",
    "options_names_list = list(options_dict.values())\n",
    "\n",
    "selected_columns = my_list + options_columns_list\n",
    "\n",
    "# Create a new DataFrame with only the selected columns\n",
    "data_frame = data_frame[selected_columns]\n",
    "\n",
    "#RENAMING \n",
    "#DataFrame Column with \"Options\" instead of Question Text\n",
    "data_frame = data_frame.rename(columns={data_frame.columns[0]: enrolled_column_name})\n",
    "data_frame = data_frame.rename(columns={data_frame.columns[1]: gender_column_name})\n",
    "\n",
    "#Make Program name shorter\n",
    "#data_frame = data_frame.rename(columns={enrolled_filter: \"enrolled\"})\n",
    "#data_frame[\"enrolled\"] = data_frame[\"Program\"].replace(\"University of Potsdam,Another University,Not Enrolled\")\n",
    "#data_frame[\"enrolled\"] = data_frame[\"enrolled\"].replace(\"Other\",\"Others\")\n",
    "\n",
    "#----------------------------------------------------------------\n",
    "#CREATE LATEX TABLE FILE\n",
    "tables_path = f'{project_path}/{latex_tables_folder}/{question_id[:2]}/'\n",
    "tables_file_name = f'{question_id}'\n",
    "\n",
    "# Set the style for aligning columns to the left\n",
    "styles = [\n",
    "    {\n",
    "        'selector': 'th',\n",
    "        'props': [('text-align', 'left')]\n",
    "    },\n",
    "    {\n",
    "        'selector': 'td',\n",
    "        'props': [('text-align', 'left')]\n",
    "    }\n",
    "]\n",
    "\n",
    "# Apply the style to the DataFrame\n",
    "#df_styled = data_frame.style.set_table_styles(styles)\n",
    "#display(df_styled)"
   ]
  },
  {
   "cell_type": "markdown",
   "metadata": {},
   "source": [
    "### Enrollment count and percentages"
   ]
  },
  {
   "cell_type": "code",
   "execution_count": 2,
   "metadata": {},
   "outputs": [
    {
     "name": "stdout",
     "output_type": "stream",
     "text": [
      "file_nameC:/Users/Christian/Documents/GitHub/survey_analysis/latex_tables/C0/C001_tables.tex\n",
      "[0 1 2]\n",
      "   Enrolled  Gender  C001  C001_01  C001_02  C001_03  C001_04  C001_05  \\\n",
      "0         0       2   1.0      2.0      1.0      1.0      1.0      1.0   \n",
      "1         0       1   1.0      1.0      1.0      1.0      2.0      1.0   \n",
      "2         0       2   1.0      1.0      1.0      1.0      2.0      1.0   \n",
      "3         0       2   1.0      2.0      1.0      1.0      1.0      1.0   \n",
      "4         0       2   1.0      1.0      1.0      1.0      2.0      1.0   \n",
      "\n",
      "   C001_06  \n",
      "0      1.0  \n",
      "1      1.0  \n",
      "2      1.0  \n",
      "3      1.0  \n",
      "4      1.0  \n",
      "Enrolled\n"
     ]
    },
    {
     "data": {
      "text/plain": [
       "'for enrollment_option in enrollment_option_array:\\n    filtered_df = data_frame[data_frame[filter_column] == enrollment_option]    \\n    print(filtered_df.head())\\n    \\n    count_df = dw.percentage_options(df_data = filtered_df,\\n                                options_columns=options_columns_list,\\n                                options_names=options_names_list,\\n                                selected_code=2)\\n    display(count_df)\\n\\n    latex_table = table_writer.write_latex_table(count_df,False, enrollment_option, \\n                                    question_id, question_title,column_format=\"@{}lcc\")\\n    table_writer.table_to_file(latex_table,tables_path,tables_file_name)\\n'"
      ]
     },
     "execution_count": 2,
     "metadata": {},
     "output_type": "execute_result"
    }
   ],
   "source": [
    "#ALL\n",
    "count_df = dw.percentage_options(df_data=data_frame,\n",
    "                                options_columns=options_columns_list,\n",
    "                                options_names=options_names_list,\n",
    "                                selected_code=2)\n",
    "display(count_df)\n",
    "latex_table = table_writer.write_latex_table(count_df,False, \"All\", \n",
    "                                    question_id, question_title,\n",
    "                                    column_format=\"@{}lcc\")\n",
    "table_writer.table_to_file(latex_table,tables_path,tables_file_name)\n",
    "\n",
    "# Filter by enrolled\n",
    "enrollment_option_array = data_frame[enrolled_column_name].unique()\n",
    "print(enrollment_option_array)\n",
    "#new_array= np.setdiff1d(enrollment_option_array, ['Not answered'])\n",
    "\n",
    "filter_column = enrolled_column_name\n",
    "print(data_frame.head())\n",
    "print(filter_column)\n",
    "\n",
    "\"\"\"for enrollment_option in enrollment_option_array:\n",
    "    filtered_df = data_frame[data_frame[filter_column] == enrollment_option]    \n",
    "    print(filtered_df.head())\n",
    "    \n",
    "    count_df = dw.percentage_options(df_data = filtered_df,\n",
    "                                options_columns=options_columns_list,\n",
    "                                options_names=options_names_list,\n",
    "                                selected_code=2)\n",
    "    display(count_df)\n",
    "\n",
    "    latex_table = table_writer.write_latex_table(count_df,False, enrollment_option, \n",
    "                                    question_id, question_title,column_format=\"@{}lcc\")\n",
    "    table_writer.table_to_file(latex_table,tables_path,tables_file_name)\n",
    "\"\"\""
   ]
  },
  {
   "cell_type": "markdown",
   "metadata": {},
   "source": [
    "### Gender Count and percentages"
   ]
  },
  {
   "cell_type": "code",
   "execution_count": null,
   "metadata": {},
   "outputs": [],
   "source": [
    "# ALL:\n",
    "latex_table = table_writer.display_value_counts(data_frame, question_id, \n",
    "                                                question_title, filter_value='All', styles=None)\n",
    "table_writer.table_to_file(latex_table,tables_path,tables_file_name)\n",
    "\n",
    "# Filter by gender\n",
    "gender_selection_array = data_frame[gender_column_name].unique()\n",
    "new_array= np.setdiff1d(gender_selection_array, ['Not answered'])\n",
    "\n",
    "for gender_selection in new_array:\n",
    "    latex_table = table_writer.display_value_counts(data_frame, question_id, question_title, \n",
    "                     filter_column= gender_column_name, \n",
    "                     filter_value= gender_selection, \n",
    "                     styles=None)\n",
    "    table_writer.table_to_file(latex_table,tables_path,tables_file_name)"
   ]
  },
  {
   "cell_type": "markdown",
   "metadata": {},
   "source": [
    "### Free text answers"
   ]
  },
  {
   "cell_type": "code",
   "execution_count": null,
   "metadata": {},
   "outputs": [],
   "source": [
    "df_text = pd.DataFrame(data_frame[['Comments','enrolled']]).dropna()\n",
    "df_text = df_text.sort_values(by=['enrolled'])\n",
    "#df_styled = df_text.style.set_table_styles(styles)\n",
    "\n",
    "table_caption=f'Comments for {question_id}-{question_title}'\n",
    "label_name = f'{question_id}-FreeText_table'\n",
    "latex_table = df_text.to_latex(index=False,\n",
    "                               caption=table_caption, \n",
    "                               label=label_name,\n",
    "                               column_format='@{}p{0.65\\\\textwidth}p{0.35\\\\textwidth}')\n",
    "\n",
    "table_writer.table_to_file(latex_table,tables_path,tables_file_name)\n"
   ]
  },
  {
   "cell_type": "markdown",
   "metadata": {},
   "source": [
    "### Making sense of the data\n",
    "\n",
    "#### Surprising findings:\n",
    "- Number of recommendations from friends and colleagues (maybe a program to incentivize that?)\n",
    "- Web pages or search amounts to more than 34%, which is also surprising.\n",
    "- Low proportion on directed/planned initiatives like conferences and magazines."
   ]
  }
 ],
 "metadata": {
  "kernelspec": {
   "display_name": "dly_env",
   "language": "python",
   "name": "python3"
  },
  "language_info": {
   "codemirror_mode": {
    "name": "ipython",
    "version": 3
   },
   "file_extension": ".py",
   "mimetype": "text/x-python",
   "name": "python",
   "nbconvert_exporter": "python",
   "pygments_lexer": "ipython3",
   "version": "3.11.5"
  },
  "orig_nbformat": 4
 },
 "nbformat": 4,
 "nbformat_minor": 2
}
