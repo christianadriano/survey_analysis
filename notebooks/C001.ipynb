{
 "cells": [
  {
   "cell_type": "markdown",
   "metadata": {},
   "source": [
    "id: C001"
   ]
  },
  {
   "cell_type": "code",
   "execution_count": 2,
   "metadata": {},
   "outputs": [],
   "source": [
    "import pandas as pd\n",
    "import numpy as np\n",
    "import configparser\n",
    "import module_table_writer as table_writer\n",
    "\n",
    "question_id = \"C001\"\n",
    "#question_title='How were you made aware of the opportunity to do a PhD at the HPI?'\n",
    "enrollment_column = \"B003\"\n",
    "gender_column = \"B004\"\n",
    "enrollment_column_name = \"Enrolled\"\n",
    "gender_column_name = \"Gender\"\n",
    "\n",
    "#-----------------------------------------------------------------\n",
    "# LOAD CONFIGURATION FILE\n",
    "\n",
    "config = configparser.ConfigParser()\n",
    "config.read('config.ini')\n",
    "project_path = config['file.loading']['project_path']\n",
    "data_folder = config['file.loading']['data_folder']\n",
    "latex_tables_folder = config['file.loading']['latex_tables_folder']\n",
    "question_index_file = config['file.loading']['question_index_file']\n",
    "data_file = config['file.loading']['data_file']\n",
    "sep = config['file.loading']['sep']\n",
    "\n",
    "#----------------------------------------------------------------\n",
    "#LOAD QUESTION INDEX (Questions id, Question text, Answer alternatives, Details)\n",
    "question_index_path = f'{project_path}/{data_folder}/{question_index_file}'\n",
    "#print(question_index_path)\n",
    "id_data_frame = pd.read_csv(question_index_path,encoding = \"ISO-8859-1\")\n",
    "filtered_df = id_data_frame[id_data_frame['ID']==question_id]\n",
    "question_title = filtered_df[['Question']]\n",
    "\n",
    "print(\"ID:\"+question_id+\" Question Title:\" + question_title)\n",
    "\n",
    "options_dict = table_writer.generate_options_dictionary(filtered_df)\n",
    "\n",
    "#----------------------------------------------------------------\n",
    "#LOAD DATA FILE AND FILTER NECESSARY COLUMNS\n",
    "file_name_path = f'{project_path}/{data_folder}/{data_file}'\n",
    "data_frame = pd.read_csv(file_name_path,encoding = \"ISO-8859-1\")\n",
    "\n",
    "my_list = [enrollment_column, gender_column, question_id]\n",
    "\n",
    "# Get a list of all keys\n",
    "keys_list = list(options_dict.keys())\n",
    "\n",
    "selected_columns = my_list + keys_list\n",
    "\n",
    "# Create a new DataFrame with only the selected columns\n",
    "data_frame = data_frame[selected_columns]\n",
    "\n",
    "#RENAMING \n",
    "#DataFrame Column with \"Options\" instead of Question Text\n",
    "data_frame = data_frame.rename(columns={data_frame.columns[0]: enrollment_column_name})\n",
    "data_frame = data_frame.rename(columns={data_frame.columns[1]: gender_column_name})\n",
    "print(data_frame.head())\n",
    "\n",
    "#Make Program name shorter\n",
    "#data_frame = data_frame.rename(columns={enrollment_filter: \"Enrollment\"})\n",
    "#data_frame[\"Enrollment\"] = data_frame[\"Program\"].replace(\"University of Potsdam,Another University,Not Enrolled\")\n",
    "#data_frame[\"Enrollment\"] = data_frame[\"Enrollment\"].replace(\"Other\",\"Others\")\n",
    "\n",
    "#----------------------------------------------------------------\n",
    "#CREATE LATEX TABLE FILE\n",
    "tables_path = f'{project_path}/{latex_tables_folder}/{question_id[:2]}/'\n",
    "tables_file_name = f'{question_id}{sep}{question_title}'\n",
    "\n",
    "# Set the style for aligning columns to the left\n",
    "styles = [\n",
    "    {\n",
    "        'selector': 'th',\n",
    "        'props': [('text-align', 'left')]\n",
    "    },\n",
    "    {\n",
    "        'selector': 'td',\n",
    "        'props': [('text-align', 'left')]\n",
    "    }\n",
    "]\n",
    "\n",
    "# Apply the style to the DataFrame\n",
    "#df_styled = data_frame.style.set_table_styles(styles)\n",
    "#display(df_styled)"
   ]
  },
  {
   "cell_type": "code",
   "execution_count": 3,
   "metadata": {},
   "outputs": [
    {
     "name": "stdout",
     "output_type": "stream",
     "text": [
      "['B003', 'B004', 'C001']\n",
      "['a', 'b', 'c']\n",
      "['B003', 'B004', 'C001', 'a', 'b', 'c']\n"
     ]
    }
   ],
   "source": [
    "my_dict = {'a': 1, 'b': 2, 'c': 3}\n",
    "question_id = 'C001'\n",
    "enrollment_column = \"B003\"\n",
    "gender_column = \"B004\"\n",
    "\n",
    "my_list = [enrollment_column, gender_column, question_id]\n",
    "print(my_list)\n",
    "\n",
    "# Get a list of all keys\n",
    "keys_list = list(my_dict.keys())\n",
    "print(keys_list)\n",
    "\n",
    "# Concatenate the two lists\n",
    "concatenated_lists = my_list + keys_list\n",
    "print(concatenated_lists)"
   ]
  },
  {
   "cell_type": "markdown",
   "metadata": {},
   "source": [
    "### Answer count and percentages"
   ]
  },
  {
   "cell_type": "code",
   "execution_count": null,
   "metadata": {},
   "outputs": [],
   "source": [
    "# ALL:\n",
    "latex_table = table_writer.display_value_counts(data_frame, question_id, \n",
    "                                                question_title, filter_value='All', styles=None)\n",
    "table_writer.table_to_file(latex_table,tables_path,tables_file_name)\n",
    "\n",
    "# Filter by Enrollment\n",
    "program_name_array = data_frame['Enrollment'].unique()\n",
    "new_program_array= np.setdiff1d(program_name_array, ['Not answered'])\n",
    "\n",
    "for program_name in new_program_array:\n",
    "    latex_table = table_writer.display_value_counts(data_frame, question_id, question_title, \n",
    "                     filter_column= 'Enrollment', \n",
    "                     filter_value= program_name, \n",
    "                     styles=None)\n",
    "    table_writer.table_to_file(latex_table,tables_path,tables_file_name)\n"
   ]
  },
  {
   "cell_type": "markdown",
   "metadata": {},
   "source": [
    "### Free text answers"
   ]
  },
  {
   "cell_type": "code",
   "execution_count": null,
   "metadata": {},
   "outputs": [],
   "source": [
    "df_text = pd.DataFrame(data_frame[['Comments','Enrollment']]).dropna()\n",
    "df_text = df_text.sort_values(by=['Enrollment'])\n",
    "#df_styled = df_text.style.set_table_styles(styles)\n",
    "\n",
    "table_caption=f'Comments for {question_id}-{question_title}'\n",
    "label_name = f'{question_id}-FreeText_table'\n",
    "latex_table = df_text.to_latex(index=False,\n",
    "                               caption=table_caption, \n",
    "                               label=label_name,\n",
    "                               column_format='@{}p{0.65\\\\textwidth}p{0.35\\\\textwidth}')\n",
    "\n",
    "table_writer.table_to_file(latex_table,tables_path,tables_file_name)\n"
   ]
  },
  {
   "cell_type": "markdown",
   "metadata": {},
   "source": [
    "### Making sense of the data\n",
    "\n",
    "#### Surprising findings:\n",
    "- Number of recommendations from friends and colleagues (maybe a program to incentivize that?)\n",
    "- Web pages or search amounts to more than 34%, which is also surprising.\n",
    "- Low proportion on directed/planned initiatives like conferences and magazines."
   ]
  }
 ],
 "metadata": {
  "kernelspec": {
   "display_name": "dly_env",
   "language": "python",
   "name": "python3"
  },
  "language_info": {
   "codemirror_mode": {
    "name": "ipython",
    "version": 3
   },
   "file_extension": ".py",
   "mimetype": "text/x-python",
   "name": "python",
   "nbconvert_exporter": "python",
   "pygments_lexer": "ipython3",
   "version": "3.11.5"
  },
  "orig_nbformat": 4
 },
 "nbformat": 4,
 "nbformat_minor": 2
}
