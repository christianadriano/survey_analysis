{
 "cells": [
  {
   "cell_type": "markdown",
   "metadata": {},
   "source": [
    "id: C001"
   ]
  },
  {
   "cell_type": "code",
   "execution_count": 1,
   "metadata": {},
   "outputs": [
    {
     "ename": "KeyError",
     "evalue": "'question'",
     "output_type": "error",
     "traceback": [
      "\u001b[1;31m---------------------------------------------------------------------------\u001b[0m",
      "\u001b[1;31mKeyError\u001b[0m                                  Traceback (most recent call last)",
      "File \u001b[1;32mc:\\Users\\Christian\\AppData\\Local\\Programs\\Python\\Python311\\Lib\\site-packages\\pandas\\core\\indexes\\base.py:3790\u001b[0m, in \u001b[0;36mIndex.get_loc\u001b[1;34m(self, key)\u001b[0m\n\u001b[0;32m   3789\u001b[0m \u001b[38;5;28;01mtry\u001b[39;00m:\n\u001b[1;32m-> 3790\u001b[0m     \u001b[38;5;28;01mreturn\u001b[39;00m \u001b[38;5;28;43mself\u001b[39;49m\u001b[38;5;241;43m.\u001b[39;49m\u001b[43m_engine\u001b[49m\u001b[38;5;241;43m.\u001b[39;49m\u001b[43mget_loc\u001b[49m\u001b[43m(\u001b[49m\u001b[43mcasted_key\u001b[49m\u001b[43m)\u001b[49m\n\u001b[0;32m   3791\u001b[0m \u001b[38;5;28;01mexcept\u001b[39;00m \u001b[38;5;167;01mKeyError\u001b[39;00m \u001b[38;5;28;01mas\u001b[39;00m err:\n",
      "File \u001b[1;32mindex.pyx:152\u001b[0m, in \u001b[0;36mpandas._libs.index.IndexEngine.get_loc\u001b[1;34m()\u001b[0m\n",
      "File \u001b[1;32mindex.pyx:181\u001b[0m, in \u001b[0;36mpandas._libs.index.IndexEngine.get_loc\u001b[1;34m()\u001b[0m\n",
      "File \u001b[1;32mpandas\\_libs\\hashtable_class_helper.pxi:7080\u001b[0m, in \u001b[0;36mpandas._libs.hashtable.PyObjectHashTable.get_item\u001b[1;34m()\u001b[0m\n",
      "File \u001b[1;32mpandas\\_libs\\hashtable_class_helper.pxi:7088\u001b[0m, in \u001b[0;36mpandas._libs.hashtable.PyObjectHashTable.get_item\u001b[1;34m()\u001b[0m\n",
      "\u001b[1;31mKeyError\u001b[0m: 'question'",
      "\nThe above exception was the direct cause of the following exception:\n",
      "\u001b[1;31mKeyError\u001b[0m                                  Traceback (most recent call last)",
      "Cell \u001b[1;32mIn[1], line 21\u001b[0m\n\u001b[0;32m     19\u001b[0m id_data_frame \u001b[38;5;241m=\u001b[39m pd\u001b[38;5;241m.\u001b[39mread_csv(index_file_name,encoding \u001b[38;5;241m=\u001b[39m \u001b[38;5;124m\"\u001b[39m\u001b[38;5;124mISO-8859-1\u001b[39m\u001b[38;5;124m\"\u001b[39m)\n\u001b[0;32m     20\u001b[0m filtered_df \u001b[38;5;241m=\u001b[39m id_data_frame[id_data_frame[\u001b[38;5;124m'\u001b[39m\u001b[38;5;124mID\u001b[39m\u001b[38;5;124m'\u001b[39m]\u001b[38;5;241m==\u001b[39mquestion_id]\n\u001b[1;32m---> 21\u001b[0m question_title \u001b[38;5;241m=\u001b[39m \u001b[43mfiltered_df\u001b[49m\u001b[43m[\u001b[49m\u001b[38;5;124;43m'\u001b[39;49m\u001b[38;5;124;43mquestion\u001b[39;49m\u001b[38;5;124;43m'\u001b[39;49m\u001b[43m]\u001b[49m\u001b[38;5;241m.\u001b[39mvalue[\u001b[38;5;241m0\u001b[39m] \u001b[38;5;28;01mif\u001b[39;00m \u001b[38;5;129;01mnot\u001b[39;00m filtered_df\u001b[38;5;241m.\u001b[39mempty \u001b[38;5;28;01melse\u001b[39;00m \u001b[38;5;28;01mNone\u001b[39;00m\n\u001b[0;32m     23\u001b[0m \u001b[38;5;28mprint\u001b[39m(\u001b[38;5;124m\"\u001b[39m\u001b[38;5;124mID:\u001b[39m\u001b[38;5;124m\"\u001b[39m\u001b[38;5;241m+\u001b[39mquestion_id\u001b[38;5;241m+\u001b[39m\u001b[38;5;124m\"\u001b[39m\u001b[38;5;124m Question Title:\u001b[39m\u001b[38;5;124m\"\u001b[39m \u001b[38;5;241m+\u001b[39m question_title)\n\u001b[0;32m     26\u001b[0m \u001b[38;5;66;03m#----------------------------------------------------------------\u001b[39;00m\n\u001b[0;32m     27\u001b[0m \u001b[38;5;66;03m#LOAD FILE\u001b[39;00m\n",
      "File \u001b[1;32mc:\\Users\\Christian\\AppData\\Local\\Programs\\Python\\Python311\\Lib\\site-packages\\pandas\\core\\frame.py:3896\u001b[0m, in \u001b[0;36mDataFrame.__getitem__\u001b[1;34m(self, key)\u001b[0m\n\u001b[0;32m   3894\u001b[0m \u001b[38;5;28;01mif\u001b[39;00m \u001b[38;5;28mself\u001b[39m\u001b[38;5;241m.\u001b[39mcolumns\u001b[38;5;241m.\u001b[39mnlevels \u001b[38;5;241m>\u001b[39m \u001b[38;5;241m1\u001b[39m:\n\u001b[0;32m   3895\u001b[0m     \u001b[38;5;28;01mreturn\u001b[39;00m \u001b[38;5;28mself\u001b[39m\u001b[38;5;241m.\u001b[39m_getitem_multilevel(key)\n\u001b[1;32m-> 3896\u001b[0m indexer \u001b[38;5;241m=\u001b[39m \u001b[38;5;28;43mself\u001b[39;49m\u001b[38;5;241;43m.\u001b[39;49m\u001b[43mcolumns\u001b[49m\u001b[38;5;241;43m.\u001b[39;49m\u001b[43mget_loc\u001b[49m\u001b[43m(\u001b[49m\u001b[43mkey\u001b[49m\u001b[43m)\u001b[49m\n\u001b[0;32m   3897\u001b[0m \u001b[38;5;28;01mif\u001b[39;00m is_integer(indexer):\n\u001b[0;32m   3898\u001b[0m     indexer \u001b[38;5;241m=\u001b[39m [indexer]\n",
      "File \u001b[1;32mc:\\Users\\Christian\\AppData\\Local\\Programs\\Python\\Python311\\Lib\\site-packages\\pandas\\core\\indexes\\base.py:3797\u001b[0m, in \u001b[0;36mIndex.get_loc\u001b[1;34m(self, key)\u001b[0m\n\u001b[0;32m   3792\u001b[0m     \u001b[38;5;28;01mif\u001b[39;00m \u001b[38;5;28misinstance\u001b[39m(casted_key, \u001b[38;5;28mslice\u001b[39m) \u001b[38;5;129;01mor\u001b[39;00m (\n\u001b[0;32m   3793\u001b[0m         \u001b[38;5;28misinstance\u001b[39m(casted_key, abc\u001b[38;5;241m.\u001b[39mIterable)\n\u001b[0;32m   3794\u001b[0m         \u001b[38;5;129;01mand\u001b[39;00m \u001b[38;5;28many\u001b[39m(\u001b[38;5;28misinstance\u001b[39m(x, \u001b[38;5;28mslice\u001b[39m) \u001b[38;5;28;01mfor\u001b[39;00m x \u001b[38;5;129;01min\u001b[39;00m casted_key)\n\u001b[0;32m   3795\u001b[0m     ):\n\u001b[0;32m   3796\u001b[0m         \u001b[38;5;28;01mraise\u001b[39;00m InvalidIndexError(key)\n\u001b[1;32m-> 3797\u001b[0m     \u001b[38;5;28;01mraise\u001b[39;00m \u001b[38;5;167;01mKeyError\u001b[39;00m(key) \u001b[38;5;28;01mfrom\u001b[39;00m \u001b[38;5;21;01merr\u001b[39;00m\n\u001b[0;32m   3798\u001b[0m \u001b[38;5;28;01mexcept\u001b[39;00m \u001b[38;5;167;01mTypeError\u001b[39;00m:\n\u001b[0;32m   3799\u001b[0m     \u001b[38;5;66;03m# If we have a listlike key, _check_indexing_error will raise\u001b[39;00m\n\u001b[0;32m   3800\u001b[0m     \u001b[38;5;66;03m#  InvalidIndexError. Otherwise we fall through and re-raise\u001b[39;00m\n\u001b[0;32m   3801\u001b[0m     \u001b[38;5;66;03m#  the TypeError.\u001b[39;00m\n\u001b[0;32m   3802\u001b[0m     \u001b[38;5;28mself\u001b[39m\u001b[38;5;241m.\u001b[39m_check_indexing_error(key)\n",
      "\u001b[1;31mKeyError\u001b[0m: 'question'"
     ]
    }
   ],
   "source": [
    "import pandas as pd\n",
    "import numpy as np\n",
    "import configparser\n",
    "\n",
    "question_id = 'C001'\n",
    "#question_title='How were you made aware of the opportunity to do a PhD at the HPI?'\n",
    "\n",
    "#-----------------------------------------------------------------\n",
    "\n",
    "config = configparser.ConfigParser()\n",
    "config.read('config.ini')\n",
    "file_path = config['file.loading']['file_path']\n",
    "data_path = f'{file_path}data/'\n",
    "suffix = config['file.loading']['suffix']\n",
    "\n",
    "#----------------------------------------------------------------\n",
    "#LOAD INDEX (Questions id, Question text, Answer alternatives)\n",
    "index_file_name = f'{data_path}Index_Questions.csv'\n",
    "id_data_frame = pd.read_csv(index_file_name,encoding = \"ISO-8859-1\")\n",
    "filtered_df = id_data_frame[id_data_frame['ID']==question_id]\n",
    "question_title = filtered_df['question'].value[0] if not filtered_df.empty else None\n",
    "\n",
    "print(\"ID:\"+question_id+\" Question Title:\" + question_title)\n",
    "\n",
    "\n",
    "#----------------------------------------------------------------\n",
    "#LOAD FILE\n",
    "sep ='_'\n",
    "suffix='.csv'\n",
    "program_column = 'Enrollment status:'\n",
    "file_path = 'C:/Users/Christian/Documents/GitHub/'\n",
    "data_path = f'{file_path}data/'\n",
    "file_name = f'{data_path}{question_id}{sep}{question_title}{suffix}'\n",
    "data_frame = pd.read_csv(file_name)\n",
    "tables_path = f'{file_path}latex_tables/{question_id[:2]}/'\n",
    "tables_file_name = f'{question_id}{sep}{question_title}'\n",
    "\n",
    "#----------------------------------------------------------------\n",
    "#RENAMING \n",
    "#DataFrame Column with \"Options\" instead of Question Text\n",
    "data_frame = data_frame.rename(columns={data_frame.columns[0]: \"Options\"})\n",
    "data_frame = data_frame.rename(columns={data_frame.columns[1]: \"Comments\"})\n",
    "#Make Program name shorter\n",
    "data_frame = data_frame.rename(columns={program_column: \"Enrollment\"})\n",
    "data_frame[\"Enrollment\"] = data_frame[\"Program\"].replace(\"University of Potsdam,Another University,Not Enrolled\")\n",
    "data_frame[\"Enrollment\"] = data_frame[\"Enrollment\"].replace(\"Other\",\"Others\")\n",
    "#--------------\n",
    "\n",
    "# Set the style for aligning columns to the left\n",
    "styles = [\n",
    "    {\n",
    "        'selector': 'th',\n",
    "        'props': [('text-align', 'left')]\n",
    "    },\n",
    "    {\n",
    "        'selector': 'td',\n",
    "        'props': [('text-align', 'left')]\n",
    "    }\n",
    "]\n",
    "\n",
    "# Apply the style to the DataFrame\n",
    "#df_styled = data_frame.style.set_table_styles(styles)\n",
    "#display(df_styled)"
   ]
  },
  {
   "cell_type": "markdown",
   "metadata": {},
   "source": [
    "### Answer count and percentages"
   ]
  },
  {
   "cell_type": "code",
   "execution_count": null,
   "metadata": {},
   "outputs": [],
   "source": [
    "import module_table_writer as table_writer\n",
    "# ALL:\n",
    "latex_table = table_writer.display_value_counts(data_frame, question_id, \n",
    "                                                question_title, filter_value='All', styles=None)\n",
    "table_writer.table_to_file(latex_table,tables_path,tables_file_name)\n",
    "\n",
    "# Filter by Program\n",
    "program_name_array = data_frame['Program'].unique()\n",
    "new_program_array= np.setdiff1d(program_name_array, ['Not answered'])\n",
    "\n",
    "for program_name in new_program_array:\n",
    "    latex_table = table_writer.display_value_counts(data_frame, question_id, question_title, \n",
    "                     filter_column= 'Program', \n",
    "                     filter_value= program_name, \n",
    "                     styles=None)\n",
    "    table_writer.table_to_file(latex_table,tables_path,tables_file_name)\n"
   ]
  },
  {
   "cell_type": "markdown",
   "metadata": {},
   "source": [
    "### Free text answers"
   ]
  },
  {
   "cell_type": "code",
   "execution_count": null,
   "metadata": {},
   "outputs": [],
   "source": [
    "df_text = pd.DataFrame(data_frame[['Comments','Program']]).dropna()\n",
    "df_text = df_text.sort_values(by=['Program'])\n",
    "#df_styled = df_text.style.set_table_styles(styles)\n",
    "\n",
    "table_caption=f'Comments for {question_id}-{question_title}'\n",
    "label_name = f'{question_id}-FreeText_table'\n",
    "latex_table = df_text.to_latex(index=False,\n",
    "                               caption=table_caption, \n",
    "                               label=label_name,\n",
    "                               column_format='@{}p{0.65\\\\textwidth}p{0.35\\\\textwidth}')\n",
    "\n",
    "table_writer.table_to_file(latex_table,tables_path,tables_file_name)\n"
   ]
  },
  {
   "cell_type": "markdown",
   "metadata": {},
   "source": [
    "### Making sense of the data\n",
    "\n",
    "#### Surprising findings:\n",
    "- Number of recommendations from friends and colleagues (maybe a program to incentivize that?)\n",
    "- Web pages or search amounts to more than 34%, which is also surprising.\n",
    "- Low proportion on directed/planned initiatives like conferences and magazines."
   ]
  }
 ],
 "metadata": {
  "kernelspec": {
   "display_name": "dly_env",
   "language": "python",
   "name": "python3"
  },
  "language_info": {
   "codemirror_mode": {
    "name": "ipython",
    "version": 3
   },
   "file_extension": ".py",
   "mimetype": "text/x-python",
   "name": "python",
   "nbconvert_exporter": "python",
   "pygments_lexer": "ipython3",
   "version": "3.11.5"
  },
  "orig_nbformat": 4
 },
 "nbformat": 4,
 "nbformat_minor": 2
}
