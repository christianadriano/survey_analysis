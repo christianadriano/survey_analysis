{
 "cells": [
  {
   "cell_type": "markdown",
   "metadata": {},
   "source": [
    "## id: C001"
   ]
  },
  {
   "cell_type": "code",
   "execution_count": 2,
   "metadata": {},
   "outputs": [
    {
     "name": "stdout",
     "output_type": "stream",
     "text": [
      "ID:C001, Question Title:How were you made aware of the opportunity to do a PhD at the HPI?\n",
      "{'C001_01': 'Web', 'C001_02': 'Newsletters', 'C001_03': 'Academic conferences', 'C001_04': 'Friends/colleagues', 'C001_05': 'I completed my Bachelor/Master at HPI', 'C001_06': 'Other'}\n"
     ]
    }
   ],
   "source": [
    "import pandas as pd\n",
    "import numpy as np\n",
    "import configparser\n",
    "import module_table_writer as tw\n",
    "import module_data_wrangling as dw\n",
    "\n",
    "question_id = 'C001'\n",
    "#question_title='How were you made aware of the opportunity to do a PhD at the HPI?'\n",
    "selected_code = 2 #code that indicates that the question was answered\n",
    "\n",
    "#Enrolled demographic\n",
    "enrolled_column_key = 'B003'\n",
    "enrolled_column_name = 'Enrolled'\n",
    "enrolled_dictionary = {'0':'Enrolled','B003_01':'Intend to enroll','B003_02':'Intend to re-enroll'}  \n",
    "#'B003_05':'Do not intend to finish the PhD' -> only two people and answers are mostly empty, so I removed.\n",
    "\n",
    "#Gender demographic\n",
    "gender_column_key = 'B004'\n",
    "gender_column_name = 'Gender'\n",
    "gender_dictionary = {1:'Female',2:'Male'}\n",
    "#3:'Non-binary' no one selected this option\n",
    "#4:'Diverse' only one person selected this option\n",
    "\n",
    "#-----------------------------------------------------------------\n",
    "# LOAD CONFIGURATION FILE\n",
    "config = configparser.ConfigParser()\n",
    "config.read('config.ini')\n",
    "project_path = config['file.loading']['project_path']\n",
    "data_folder = config['file.loading']['data_folder']\n",
    "latex_tables_folder = config['file.loading']['latex_tables_folder']\n",
    "question_index_file = config['file.loading']['question_index_file']\n",
    "data_file = config['file.loading']['data_file']\n",
    "sep = config['file.loading']['sep']\n",
    "\n",
    "#----------------------------------------------------------------\n",
    "#LOAD QUESTION INDEX (Questions id, Question text, Answer alternatives, Details)\n",
    "question_index_path = f'{project_path}/{data_folder}/{question_index_file}'\n",
    "#print(question_index_path)\n",
    "id_data_frame = pd.read_csv(question_index_path,encoding = 'ISO-8859-1')\n",
    "filtered_df = id_data_frame[id_data_frame['ID']==question_id]\n",
    "question_title = filtered_df['Question'].iloc[0]\n",
    "\n",
    "print('ID:'+question_id+', Question Title:' + question_title)\n",
    "\n",
    "#extract the answer options for this question (it is a column)\n",
    "options_dict = dw.generate_options_dictionary(filtered_df,'Alternatives')\n",
    "\n",
    "#----------------------------------------------------------------\n",
    "#LOAD DATA FILE AND FILTER NECESSARY COLUMNS\n",
    "file_name_path = f'{project_path}/{data_folder}/{data_file}'\n",
    "data_frame = pd.read_csv(file_name_path,encoding = 'ISO-8859-1')\n",
    "\n",
    "my_list = [enrolled_column_key, gender_column_key, question_id]\n",
    "\n",
    "# Get a list of all keys\n",
    "options_columns_list = list(options_dict.keys())\n",
    "options_names_list = list(options_dict.values())\n",
    "\n",
    "selected_columns = my_list + options_columns_list\n",
    "\n",
    "# Create a new DataFrame with only the selected columns\n",
    "data_frame = data_frame[selected_columns]\n",
    "\n",
    "#----------------------------------------------------------------\n",
    "#CREATE LATEX TABLE FILE\n",
    "tables_path = f'{project_path}/{latex_tables_folder}/{question_id[:2]}/'\n",
    "tables_file_name = f'{question_id}'"
   ]
  },
  {
   "cell_type": "markdown",
   "metadata": {},
   "source": [
    "### Enrollment count and percentages"
   ]
  },
  {
   "cell_type": "code",
   "execution_count": null,
   "metadata": {},
   "outputs": [],
   "source": [
    "group_column_key = enrolled_column_key\n",
    "dict_column_names = enrolled_dictionary\n",
    "#ALL\n",
    "count_df = dw.percentage_options(df_data=data_frame,\n",
    "                                options_columns=options_columns_list,\n",
    "                                options_names=options_names_list,\n",
    "                                selected_code=selected_code)\n",
    "print('Table for '+'All')\n",
    "count_df = count_df.rename(columns={count_df.columns[0]: 'Answers'})\n",
    "display(count_df)\n",
    "latex_table = tw.write_latex_table(count_df,False, 'All', \n",
    "                                    question_id, question_title,\n",
    "                                    column_format='@{}lcc')\n",
    "tw.table_to_file(latex_table,tables_path,tables_file_name)\n",
    "\n",
    "# Filter by enrolled\n",
    "group_categories = dict_column_names.keys()\n",
    "\n",
    "for group_category in group_categories:\n",
    "    filtered_df = data_frame[data_frame[group_column_key] == group_category]    \n",
    "    if(len(filtered_df.index > 0)):#ignores group_categories that are not present \n",
    "           \n",
    "        count_df = dw.percentage_options(df_data = filtered_df,\n",
    "                                options_columns=options_columns_list,\n",
    "                                options_names=options_names_list,\n",
    "                                selected_code=selected_code)\n",
    "        group_name = dict_column_names.get(group_category)\n",
    "        print('Table for '+group_name)\n",
    "    \n",
    "        #Rename columns before printing\n",
    "        count_df = count_df.rename(columns={count_df.columns[0]: 'Answers'})\n",
    "        display(count_df)\n",
    "\n",
    "        latex_table = tw.write_latex_table(count_df,False, group_category, \n",
    "                                    question_id, question_title,column_format='@{}lcc')\n",
    "        tw.table_to_file(latex_table,tables_path,tables_file_name)\n"
   ]
  },
  {
   "cell_type": "markdown",
   "metadata": {},
   "source": [
    "### Gender Count and percentages"
   ]
  },
  {
   "cell_type": "code",
   "execution_count": null,
   "metadata": {},
   "outputs": [],
   "source": [
    "group_column_key = gender_column_key\n",
    "dict_column_names = gender_dictionary\n",
    "#ALL\n",
    "count_df = dw.percentage_options(df_data=data_frame,\n",
    "                                options_columns=options_columns_list,\n",
    "                                options_names=options_names_list,\n",
    "                                selected_code=selected_code)\n",
    "print('Table for '+'All')\n",
    "count_df = count_df.rename(columns={count_df.columns[0]: 'Answers'})\n",
    "display(count_df)\n",
    "latex_table = tw.write_latex_table(count_df,False, 'All', \n",
    "                                    question_id, question_title,\n",
    "                                    column_format='@{}lcc')\n",
    "tw.table_to_file(latex_table,tables_path,tables_file_name)\n",
    "\n",
    "# Filter by enrolled\n",
    "group_categories = dict_column_names.keys()\n",
    "\n",
    "for group_category in group_categories:\n",
    "    filtered_df = data_frame[data_frame[group_column_key] == group_category]    \n",
    "    if(len(filtered_df.index > 0)):#ignores group_categories that are not present \n",
    "           \n",
    "        count_df = dw.percentage_options(df_data = filtered_df,\n",
    "                                options_columns=options_columns_list,\n",
    "                                options_names=options_names_list,\n",
    "                                selected_code=selected_code)\n",
    "        group_name = dict_column_names.get(group_category)\n",
    "        print('Table for '+group_name)\n",
    "    \n",
    "        #Rename columns before printing\n",
    "        count_df = count_df.rename(columns={count_df.columns[0]: 'Answers'})\n",
    "        display(count_df)\n",
    "\n",
    "        latex_table = tw.write_latex_table(count_df,False, group_category, \n",
    "                                    question_id, question_title,column_format='@{}lcc')\n",
    "        tw.table_to_file(latex_table,tables_path,tables_file_name)"
   ]
  }
 ],
 "metadata": {
  "kernelspec": {
   "display_name": "dly_env",
   "language": "python",
   "name": "python3"
  },
  "language_info": {
   "codemirror_mode": {
    "name": "ipython",
    "version": 3
   },
   "file_extension": ".py",
   "mimetype": "text/x-python",
   "name": "python",
   "nbconvert_exporter": "python",
   "pygments_lexer": "ipython3",
   "version": "3.11.5"
  },
  "orig_nbformat": 4
 },
 "nbformat": 4,
 "nbformat_minor": 2
}
