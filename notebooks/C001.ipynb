{
 "cells": [
  {
   "cell_type": "markdown",
   "metadata": {},
   "source": [
    "id: C001"
   ]
  },
  {
   "cell_type": "code",
   "execution_count": 1,
   "metadata": {},
   "outputs": [
    {
     "ename": "AttributeError",
     "evalue": "'Series' object has no attribute 'value'",
     "output_type": "error",
     "traceback": [
      "\u001b[1;31m---------------------------------------------------------------------------\u001b[0m",
      "\u001b[1;31mAttributeError\u001b[0m                            Traceback (most recent call last)",
      "\u001b[1;32m~\\AppData\\Local\\Temp\\ipykernel_5456\\3275066305.py\u001b[0m in \u001b[0;36m?\u001b[1;34m()\u001b[0m\n\u001b[0;32m     18\u001b[0m \u001b[1;31m#LOAD QUESTION INDEX (Questions id, Question text, Answer alternatives, Details)\u001b[0m\u001b[1;33m\u001b[0m\u001b[1;33m\u001b[0m\u001b[0m\n\u001b[0;32m     19\u001b[0m \u001b[0mquestion_index_path\u001b[0m \u001b[1;33m=\u001b[0m \u001b[1;34mf'{data_folder}{question_index_file_name}'\u001b[0m\u001b[1;33m\u001b[0m\u001b[1;33m\u001b[0m\u001b[0m\n\u001b[0;32m     20\u001b[0m \u001b[0mid_data_frame\u001b[0m \u001b[1;33m=\u001b[0m \u001b[0mpd\u001b[0m\u001b[1;33m.\u001b[0m\u001b[0mread_csv\u001b[0m\u001b[1;33m(\u001b[0m\u001b[0mquestion_index_path\u001b[0m\u001b[1;33m,\u001b[0m\u001b[0mencoding\u001b[0m \u001b[1;33m=\u001b[0m \u001b[1;34m\"ISO-8859-1\"\u001b[0m\u001b[1;33m)\u001b[0m\u001b[1;33m\u001b[0m\u001b[1;33m\u001b[0m\u001b[0m\n\u001b[0;32m     21\u001b[0m \u001b[0mfiltered_df\u001b[0m \u001b[1;33m=\u001b[0m \u001b[0mid_data_frame\u001b[0m\u001b[1;33m[\u001b[0m\u001b[0mid_data_frame\u001b[0m\u001b[1;33m[\u001b[0m\u001b[1;34m'ID'\u001b[0m\u001b[1;33m]\u001b[0m\u001b[1;33m==\u001b[0m\u001b[0mquestion_id\u001b[0m\u001b[1;33m]\u001b[0m\u001b[1;33m\u001b[0m\u001b[1;33m\u001b[0m\u001b[0m\n\u001b[1;32m---> 22\u001b[1;33m \u001b[0mquestion_title\u001b[0m \u001b[1;33m=\u001b[0m \u001b[0mfiltered_df\u001b[0m\u001b[1;33m[\u001b[0m\u001b[1;34m'Question'\u001b[0m\u001b[1;33m]\u001b[0m\u001b[1;33m.\u001b[0m\u001b[0mvalue\u001b[0m\u001b[1;33m[\u001b[0m\u001b[1;36m0\u001b[0m\u001b[1;33m]\u001b[0m \u001b[1;32mif\u001b[0m \u001b[1;32mnot\u001b[0m \u001b[0mfiltered_df\u001b[0m\u001b[1;33m.\u001b[0m\u001b[0mempty\u001b[0m \u001b[1;32melse\u001b[0m \u001b[1;32mNone\u001b[0m\u001b[1;33m\u001b[0m\u001b[1;33m\u001b[0m\u001b[0m\n\u001b[0m\u001b[0;32m     23\u001b[0m \u001b[1;33m\u001b[0m\u001b[0m\n\u001b[0;32m     24\u001b[0m \u001b[0mprint\u001b[0m\u001b[1;33m(\u001b[0m\u001b[1;34m\"ID:\"\u001b[0m\u001b[1;33m+\u001b[0m\u001b[0mquestion_id\u001b[0m\u001b[1;33m+\u001b[0m\u001b[1;34m\" Question Title:\"\u001b[0m \u001b[1;33m+\u001b[0m \u001b[0mquestion_title\u001b[0m\u001b[1;33m)\u001b[0m\u001b[1;33m\u001b[0m\u001b[1;33m\u001b[0m\u001b[0m\n\u001b[0;32m     25\u001b[0m \u001b[1;33m\u001b[0m\u001b[0m\n",
      "\u001b[1;32mc:\\Users\\Christian\\AppData\\Local\\Programs\\Python\\Python311\\Lib\\site-packages\\pandas\\core\\generic.py\u001b[0m in \u001b[0;36m?\u001b[1;34m(self, name)\u001b[0m\n\u001b[0;32m   6198\u001b[0m             \u001b[1;32mand\u001b[0m \u001b[0mname\u001b[0m \u001b[1;32mnot\u001b[0m \u001b[1;32min\u001b[0m \u001b[0mself\u001b[0m\u001b[1;33m.\u001b[0m\u001b[0m_accessors\u001b[0m\u001b[1;33m\u001b[0m\u001b[1;33m\u001b[0m\u001b[0m\n\u001b[0;32m   6199\u001b[0m             \u001b[1;32mand\u001b[0m \u001b[0mself\u001b[0m\u001b[1;33m.\u001b[0m\u001b[0m_info_axis\u001b[0m\u001b[1;33m.\u001b[0m\u001b[0m_can_hold_identifiers_and_holds_name\u001b[0m\u001b[1;33m(\u001b[0m\u001b[0mname\u001b[0m\u001b[1;33m)\u001b[0m\u001b[1;33m\u001b[0m\u001b[1;33m\u001b[0m\u001b[0m\n\u001b[0;32m   6200\u001b[0m         ):\n\u001b[0;32m   6201\u001b[0m             \u001b[1;32mreturn\u001b[0m \u001b[0mself\u001b[0m\u001b[1;33m[\u001b[0m\u001b[0mname\u001b[0m\u001b[1;33m]\u001b[0m\u001b[1;33m\u001b[0m\u001b[1;33m\u001b[0m\u001b[0m\n\u001b[1;32m-> 6202\u001b[1;33m         \u001b[1;32mreturn\u001b[0m \u001b[0mobject\u001b[0m\u001b[1;33m.\u001b[0m\u001b[0m__getattribute__\u001b[0m\u001b[1;33m(\u001b[0m\u001b[0mself\u001b[0m\u001b[1;33m,\u001b[0m \u001b[0mname\u001b[0m\u001b[1;33m)\u001b[0m\u001b[1;33m\u001b[0m\u001b[1;33m\u001b[0m\u001b[0m\n\u001b[0m",
      "\u001b[1;31mAttributeError\u001b[0m: 'Series' object has no attribute 'value'"
     ]
    }
   ],
   "source": [
    "import pandas as pd\n",
    "import numpy as np\n",
    "import configparser\n",
    "\n",
    "question_id = 'C001'\n",
    "#question_title='How were you made aware of the opportunity to do a PhD at the HPI?'\n",
    "\n",
    "#-----------------------------------------------------------------\n",
    "\n",
    "config = configparser.ConfigParser()\n",
    "config.read('config.ini')\n",
    "data_folder = config['file.loading']['data_folder_path']\n",
    "question_index_file_name = config['file.loading']['question_index_file_name']\n",
    "data_file_name = config['file.loading']['data_file_name']\n",
    "suffix = config['file.loading']['suffix']\n",
    "\n",
    "#----------------------------------------------------------------\n",
    "#LOAD QUESTION INDEX (Questions id, Question text, Answer alternatives, Details)\n",
    "question_index_path = f'{data_folder}{question_index_file_name}'\n",
    "id_data_frame = pd.read_csv(question_index_path,encoding = \"ISO-8859-1\")\n",
    "filtered_df = id_data_frame[id_data_frame['ID']==question_id]\n",
    "\n",
    "question_title = filtered_df[2]\n",
    "\n",
    "question_title = filtered_df['Question'].value[0] if not filtered_df.empty else None\n",
    "\n",
    "print(\"ID:\"+question_id+\" Question Title:\" + question_title)\n",
    "\n",
    "#----------------------------------------------------------------\n",
    "#LOAD DATA FILE\n",
    "file_name = f'{data_path}{question_id}{sep}{question_title}{suffix}'\n",
    "data_frame = pd.read_csv(file_name)\n",
    "tables_path = f'{file_path}latex_tables/{question_id[:2]}/'\n",
    "tables_file_name = f'{question_id}{sep}{question_title}'\n",
    "\n",
    "program_column = 'Enrollment status:'\n",
    "\n",
    "\n",
    "#----------------------------------------------------------------\n",
    "#LOAD DATA FILE\n",
    "#sep ='_'\n",
    "#program_column = 'Enrollment status:'\n",
    "#file_path = 'C:/Users/Christian/Documents/GitHub/'\n",
    "#data_path = f'{file_path}data/'\n",
    "#file_name = f'{data_path}{question_id}{sep}{question_title}{suffix}'\n",
    "#data_frame = pd.read_csv(file_name)\n",
    "#tables_path = f'{file_path}latex_tables/{question_id[:2]}/'\n",
    "#tables_file_name = f'{question_id}{sep}{question_title}'\n",
    "\n",
    "#----------------------------------------------------------------\n",
    "#RENAMING \n",
    "#DataFrame Column with \"Options\" instead of Question Text\n",
    "data_frame = data_frame.rename(columns={data_frame.columns[0]: \"Options\"})\n",
    "data_frame = data_frame.rename(columns={data_frame.columns[1]: \"Comments\"})\n",
    "#Make Program name shorter\n",
    "data_frame = data_frame.rename(columns={program_column: \"Enrollment\"})\n",
    "data_frame[\"Enrollment\"] = data_frame[\"Program\"].replace(\"University of Potsdam,Another University,Not Enrolled\")\n",
    "data_frame[\"Enrollment\"] = data_frame[\"Enrollment\"].replace(\"Other\",\"Others\")\n",
    "#--------------\n",
    "\n",
    "# Set the style for aligning columns to the left\n",
    "styles = [\n",
    "    {\n",
    "        'selector': 'th',\n",
    "        'props': [('text-align', 'left')]\n",
    "    },\n",
    "    {\n",
    "        'selector': 'td',\n",
    "        'props': [('text-align', 'left')]\n",
    "    }\n",
    "]\n",
    "\n",
    "# Apply the style to the DataFrame\n",
    "#df_styled = data_frame.style.set_table_styles(styles)\n",
    "#display(df_styled)"
   ]
  },
  {
   "cell_type": "markdown",
   "metadata": {},
   "source": [
    "### Answer count and percentages"
   ]
  },
  {
   "cell_type": "code",
   "execution_count": null,
   "metadata": {},
   "outputs": [],
   "source": [
    "import module_table_writer as table_writer\n",
    "# ALL:\n",
    "latex_table = table_writer.display_value_counts(data_frame, question_id, \n",
    "                                                question_title, filter_value='All', styles=None)\n",
    "table_writer.table_to_file(latex_table,tables_path,tables_file_name)\n",
    "\n",
    "# Filter by Program\n",
    "program_name_array = data_frame['Program'].unique()\n",
    "new_program_array= np.setdiff1d(program_name_array, ['Not answered'])\n",
    "\n",
    "for program_name in new_program_array:\n",
    "    latex_table = table_writer.display_value_counts(data_frame, question_id, question_title, \n",
    "                     filter_column= 'Program', \n",
    "                     filter_value= program_name, \n",
    "                     styles=None)\n",
    "    table_writer.table_to_file(latex_table,tables_path,tables_file_name)\n"
   ]
  },
  {
   "cell_type": "markdown",
   "metadata": {},
   "source": [
    "### Free text answers"
   ]
  },
  {
   "cell_type": "code",
   "execution_count": null,
   "metadata": {},
   "outputs": [],
   "source": [
    "df_text = pd.DataFrame(data_frame[['Comments','Program']]).dropna()\n",
    "df_text = df_text.sort_values(by=['Program'])\n",
    "#df_styled = df_text.style.set_table_styles(styles)\n",
    "\n",
    "table_caption=f'Comments for {question_id}-{question_title}'\n",
    "label_name = f'{question_id}-FreeText_table'\n",
    "latex_table = df_text.to_latex(index=False,\n",
    "                               caption=table_caption, \n",
    "                               label=label_name,\n",
    "                               column_format='@{}p{0.65\\\\textwidth}p{0.35\\\\textwidth}')\n",
    "\n",
    "table_writer.table_to_file(latex_table,tables_path,tables_file_name)\n"
   ]
  },
  {
   "cell_type": "markdown",
   "metadata": {},
   "source": [
    "### Making sense of the data\n",
    "\n",
    "#### Surprising findings:\n",
    "- Number of recommendations from friends and colleagues (maybe a program to incentivize that?)\n",
    "- Web pages or search amounts to more than 34%, which is also surprising.\n",
    "- Low proportion on directed/planned initiatives like conferences and magazines."
   ]
  }
 ],
 "metadata": {
  "kernelspec": {
   "display_name": "dly_env",
   "language": "python",
   "name": "python3"
  },
  "language_info": {
   "codemirror_mode": {
    "name": "ipython",
    "version": 3
   },
   "file_extension": ".py",
   "mimetype": "text/x-python",
   "name": "python",
   "nbconvert_exporter": "python",
   "pygments_lexer": "ipython3",
   "version": "3.11.5"
  },
  "orig_nbformat": 4
 },
 "nbformat": 4,
 "nbformat_minor": 2
}
