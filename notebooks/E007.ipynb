{
 "cells": [
  {
   "cell_type": "markdown",
   "metadata": {},
   "source": [
    "## question id: E007"
   ]
  },
  {
   "cell_type": "code",
   "execution_count": 1,
   "metadata": {},
   "outputs": [
    {
     "name": "stdout",
     "output_type": "stream",
     "text": [
      "ID:E007, Question Title:If you receive a scholarship from HPI; do you think the offer is competitive with other universities? \n",
      "{'E007': 'Yes No'}\n"
     ]
    }
   ],
   "source": [
    "import pandas as pd\n",
    "import configparser\n",
    "import module_table_writer as tw\n",
    "import module_data_wrangling as dw\n",
    "\n",
    "question_id = 'E007'\n",
    "selected_level = {1:'Yes',2:'No',3:'Not applicable'}\n",
    "\n",
    "#Enrolled demographic\n",
    "enrolled_column_key = 'B003'\n",
    "enrolled_column_name = 'Enrolled'\n",
    "enrolled_dictionary = {'0':'Enrolled','B003_01':'Intend to enroll','B003_02':'Intend to re-enroll'}  \n",
    "# B003_05: Do not intend to finish the PhD -> only two people and answers are mostly empty, so I removed.\n",
    "\n",
    "#Gender demographic\n",
    "gender_column_key = 'B004'\n",
    "gender_column_name = 'Gender'\n",
    "gender_dictionary = {1:'Female',2:'Male'}\n",
    "#3:'Non-binary' no one selected this option\n",
    "#4:'Diverse' only one person selected this option\n",
    "\n",
    "#Year at HPI demographic\n",
    "years_at_HPI_column_key = 'B006'\n",
    "years_at_HPI_column_name = 'Years at HPI'\n",
    "years_at_HPI_dictionary = {'B006_01':'1 year or less','B006_02':'2 years','B006_03':'3 years','B006_04':'More than 4 years'}\n",
    "\n",
    "#Citizenship demographic\n",
    "citizenship_column_key = 'B007'\n",
    "citizenship_column_name = 'Citizenship'\n",
    "citizenship_dictionary = {1:'Germany',2:'EU',3:'Non-EU'}\n",
    "\n",
    "#-----------------------------------------------------------------\n",
    "# LOAD CONFIGURATION FILE\n",
    "config = configparser.ConfigParser()\n",
    "config.read('config.ini')\n",
    "project_path = config['file.loading']['project_path']\n",
    "data_folder = config['file.loading']['data_folder']\n",
    "latex_tables_folder = config['file.loading']['latex_tables_folder']\n",
    "question_index_file = config['file.loading']['question_index_file']\n",
    "data_file = config['file.loading']['data_file']\n",
    "sep = config['file.loading']['sep']\n",
    "\n",
    "#----------------------------------------------------------------\n",
    "#LOAD QUESTION INDEX (Questions id, Question text, Answer alternatives, Details)\n",
    "question_index_path = f'{project_path}/{data_folder}/{question_index_file}'\n",
    "#print(question_index_path)\n",
    "id_data_frame = pd.read_csv(question_index_path,encoding = 'ISO-8859-1')\n",
    "filtered_index_df = id_data_frame[id_data_frame['ID']==question_id]\n",
    "question_title = filtered_index_df['Question'].iloc[0]\n",
    "\n",
    "print('ID:'+question_id+', Question Title:' + question_title)\n",
    "\n",
    "#extract the answer options for this question (it is a column)\n",
    "options_dict = dw.generate_options_dictionary(filtered_index_df,'Alternatives')\n",
    "\n",
    "#----------------------------------------------------------------\n",
    "#LOAD DATA FILE AND FILTER NECESSARY COLUMNS\n",
    "file_name_path = f'{project_path}/{data_folder}/{data_file}'\n",
    "original_data_frame = pd.read_csv(file_name_path,encoding = 'ISO-8859-1')\n",
    "\n",
    "my_list = [enrolled_column_key, gender_column_key, years_at_HPI_column_key, citizenship_column_key, question_id]\n",
    "\n",
    "# Get a list of all keys\n",
    "options_code_list = list(selected_level.keys())\n",
    "options_names_list = list(selected_level.values())\n",
    "\n",
    "selected_columns = my_list \n",
    "\n",
    "# Create a new DataFrame with only the selected columns\n",
    "data_frame = original_data_frame[selected_columns]\n",
    "\n",
    "#----------------------------------------------------------------\n",
    "#CREATE LATEX TABLE FILE\n",
    "tables_path = f'{project_path}/{latex_tables_folder}/{question_id[:2]}/'\n",
    "tables_file_name = f'{question_id}'\n"
   ]
  },
  {
   "cell_type": "markdown",
   "metadata": {},
   "source": [
    "#### All (no filter)"
   ]
  },
  {
   "cell_type": "code",
   "execution_count": 2,
   "metadata": {},
   "outputs": [
    {
     "name": "stdout",
     "output_type": "stream",
     "text": [
      "Table for All\n"
     ]
    },
    {
     "data": {
      "text/html": [
       "<div>\n",
       "<style scoped>\n",
       "    .dataframe tbody tr th:only-of-type {\n",
       "        vertical-align: middle;\n",
       "    }\n",
       "\n",
       "    .dataframe tbody tr th {\n",
       "        vertical-align: top;\n",
       "    }\n",
       "\n",
       "    .dataframe thead th {\n",
       "        text-align: right;\n",
       "    }\n",
       "</style>\n",
       "<table border=\"1\" class=\"dataframe\">\n",
       "  <thead>\n",
       "    <tr style=\"text-align: right;\">\n",
       "      <th></th>\n",
       "      <th>Answers</th>\n",
       "      <th>Count</th>\n",
       "      <th>Percentage</th>\n",
       "    </tr>\n",
       "  </thead>\n",
       "  <tbody>\n",
       "    <tr>\n",
       "      <th>0</th>\n",
       "      <td>Yes</td>\n",
       "      <td>17</td>\n",
       "      <td>19.77</td>\n",
       "    </tr>\n",
       "    <tr>\n",
       "      <th>1</th>\n",
       "      <td>No</td>\n",
       "      <td>22</td>\n",
       "      <td>25.58</td>\n",
       "    </tr>\n",
       "    <tr>\n",
       "      <th>2</th>\n",
       "      <td>Not applicable</td>\n",
       "      <td>47</td>\n",
       "      <td>54.65</td>\n",
       "    </tr>\n",
       "    <tr>\n",
       "      <th>3</th>\n",
       "      <td>TOTAL</td>\n",
       "      <td>86</td>\n",
       "      <td>100.00</td>\n",
       "    </tr>\n",
       "  </tbody>\n",
       "</table>\n",
       "</div>"
      ],
      "text/plain": [
       "          Answers  Count Percentage\n",
       "0             Yes     17      19.77\n",
       "1              No     22      25.58\n",
       "2  Not applicable     47      54.65\n",
       "3           TOTAL     86     100.00"
      ]
     },
     "metadata": {},
     "output_type": "display_data"
    },
    {
     "ename": "AttributeError",
     "evalue": "'str' object has no attribute 'size'",
     "output_type": "error",
     "traceback": [
      "\u001b[1;31m---------------------------------------------------------------------------\u001b[0m",
      "\u001b[1;31mAttributeError\u001b[0m                            Traceback (most recent call last)",
      "Cell \u001b[1;32mIn[2], line 13\u001b[0m\n\u001b[0;32m     10\u001b[0m     count_df \u001b[38;5;241m=\u001b[39m count_df\u001b[38;5;241m.\u001b[39mrename(columns\u001b[38;5;241m=\u001b[39m{count_df\u001b[38;5;241m.\u001b[39mcolumns[\u001b[38;5;241m0\u001b[39m]: \u001b[38;5;124m'\u001b[39m\u001b[38;5;124mAnswers\u001b[39m\u001b[38;5;124m'\u001b[39m})\n\u001b[0;32m     11\u001b[0m     display(count_df)\n\u001b[1;32m---> 13\u001b[0m     latex_table \u001b[38;5;241m=\u001b[39m \u001b[43mtw\u001b[49m\u001b[38;5;241;43m.\u001b[39;49m\u001b[43mwrite_latex_table\u001b[49m\u001b[43m(\u001b[49m\u001b[43mdata_df\u001b[49m\u001b[38;5;241;43m=\u001b[39;49m\u001b[43mcount_df\u001b[49m\u001b[43m,\u001b[49m\u001b[43m \u001b[49m\n\u001b[0;32m     14\u001b[0m \u001b[43m                                    \u001b[49m\u001b[43mshow_index\u001b[49m\u001b[38;5;241;43m=\u001b[39;49m\u001b[38;5;28;43;01mFalse\u001b[39;49;00m\u001b[43m,\u001b[49m\n\u001b[0;32m     15\u001b[0m \u001b[43m                                    \u001b[49m\u001b[43mfilter_name\u001b[49m\u001b[38;5;241;43m=\u001b[39;49m\u001b[38;5;124;43m'\u001b[39;49m\u001b[38;5;124;43mAll\u001b[39;49m\u001b[38;5;124;43m'\u001b[39;49m\u001b[43m,\u001b[49m\u001b[43m \u001b[49m\n\u001b[0;32m     16\u001b[0m \u001b[43m                                    \u001b[49m\u001b[43mfilter_value\u001b[49m\u001b[38;5;241;43m=\u001b[39;49m\u001b[38;5;124;43m'\u001b[39;49m\u001b[38;5;124;43mAll\u001b[39;49m\u001b[38;5;124;43m'\u001b[39;49m\u001b[43m,\u001b[49m\n\u001b[0;32m     17\u001b[0m \u001b[43m                                    \u001b[49m\u001b[43mquestion_id\u001b[49m\u001b[38;5;241;43m=\u001b[39;49m\u001b[43mquestion_id\u001b[49m\u001b[43m,\u001b[49m\u001b[43m \u001b[49m\n\u001b[0;32m     18\u001b[0m \u001b[43m                                    \u001b[49m\u001b[43mquestion_title\u001b[49m\u001b[38;5;241;43m=\u001b[39;49m\u001b[43mquestion_title\u001b[49m\u001b[43m,\u001b[49m\n\u001b[0;32m     19\u001b[0m \u001b[43m                                    \u001b[49m\u001b[43mcolumn_format\u001b[49m\u001b[38;5;241;43m=\u001b[39;49m\u001b[38;5;124;43m'\u001b[39;49m\u001b[38;5;124;43m@\u001b[39;49m\u001b[38;5;132;43;01m{}\u001b[39;49;00m\u001b[38;5;124;43mlcc\u001b[39;49m\u001b[38;5;124;43m'\u001b[39;49m\n\u001b[0;32m     20\u001b[0m \u001b[43m                                    \u001b[49m\u001b[43m)\u001b[49m\n\u001b[0;32m     22\u001b[0m     tw\u001b[38;5;241m.\u001b[39mtable_to_file(latex_table,tables_path,tables_file_name)\n\u001b[0;32m     23\u001b[0m \u001b[38;5;28;01melse\u001b[39;00m:\n",
      "File \u001b[1;32mc:\\Users\\Christian\\Documents\\GitHub\\survey_analysis\\notebooks\\module_table_writer.py:11\u001b[0m, in \u001b[0;36mwrite_latex_table\u001b[1;34m(data_df, show_index, filter_name, filter_value, question_id, question_title, column_format)\u001b[0m\n\u001b[0;32m      7\u001b[0m \u001b[38;5;28;01mdef\u001b[39;00m \u001b[38;5;21mwrite_latex_table\u001b[39m(data_df, show_index, filter_name, filter_value, \n\u001b[0;32m      8\u001b[0m                       question_id, question_title,column_format):\n\u001b[0;32m      9\u001b[0m \u001b[38;5;250m    \u001b[39m\u001b[38;5;124;03m\"\"\" Generate Latex table and save to file\"\"\"\u001b[39;00m\n\u001b[1;32m---> 11\u001b[0m     \u001b[38;5;28;01mif\u001b[39;00m \u001b[43mfilter_name\u001b[49m\u001b[38;5;241;43m.\u001b[39;49m\u001b[43msize\u001b[49m\u001b[38;5;241m>\u001b[39m\u001b[38;5;241m0\u001b[39m:\n\u001b[0;32m     12\u001b[0m         prefix \u001b[38;5;241m=\u001b[39m \u001b[38;5;124mf\u001b[39m\u001b[38;5;124m'\u001b[39m\u001b[38;5;132;01m{\u001b[39;00mfilter_name\u001b[38;5;132;01m}\u001b[39;00m\u001b[38;5;124m=\u001b[39m\u001b[38;5;132;01m{\u001b[39;00mfilter_value\u001b[38;5;132;01m}\u001b[39;00m\u001b[38;5;124m'\u001b[39m\n\u001b[0;32m     13\u001b[0m     \u001b[38;5;28;01melse\u001b[39;00m:\n",
      "\u001b[1;31mAttributeError\u001b[0m: 'str' object has no attribute 'size'"
     ]
    }
   ],
   "source": [
    "#ALL\n",
    "\n",
    "count_df = dw.percentage_options_single_column(df_data=data_frame,\n",
    "                                column_name = question_id,\n",
    "                                options_names=options_names_list,\n",
    "                                options_codes=options_code_list)\n",
    "\n",
    "if(count_df.size > 0):\n",
    "    print('Table for '+'All')\n",
    "    count_df = count_df.rename(columns={count_df.columns[0]: 'Answers'})\n",
    "    display(count_df)\n",
    "    \n",
    "    latex_table = tw.write_latex_table(data_df=count_df, \n",
    "                                    show_index=False,\n",
    "                                    filter_name='', \n",
    "                                    filter_value='All',\n",
    "                                    question_id=question_id, \n",
    "                                    question_title=question_title,\n",
    "                                    column_format='@{}lcc'\n",
    "                                    )\n",
    "    \n",
    "    tw.table_to_file(latex_table,tables_path,tables_file_name)\n",
    "else:\n",
    "    print('Table for '+'All is empty')   "
   ]
  },
  {
   "cell_type": "markdown",
   "metadata": {},
   "source": [
    "### Enrollment count and percentages"
   ]
  },
  {
   "cell_type": "code",
   "execution_count": null,
   "metadata": {},
   "outputs": [],
   "source": [
    "tw.filter_write_table_single_column(group_column_key = enrolled_column_key,\n",
    "                                    dict_column_names = enrolled_dictionary,\n",
    "                                    df = data_frame,\n",
    "                                    options_names_list = options_names_list,\n",
    "                                    options_code_list = options_code_list,\n",
    "                                    question_id =question_id,\n",
    "                                    question_title = question_title,\n",
    "                                    tables_path = tables_path,\n",
    "                                    tables_file_name = tables_file_name,\n",
    "                                    filter_name='Enrollment status'\n",
    "                                    )"
   ]
  },
  {
   "cell_type": "markdown",
   "metadata": {},
   "source": [
    "### Gender Count and percentages"
   ]
  },
  {
   "cell_type": "code",
   "execution_count": null,
   "metadata": {},
   "outputs": [],
   "source": [
    "tw.filter_write_table_single_column(group_column_key = gender_column_key,\n",
    "                                    dict_column_names = gender_dictionary,\n",
    "                                    df = data_frame,\n",
    "                                    options_names_list = options_names_list,\n",
    "                                    options_code_list = options_code_list,\n",
    "                                    question_id =question_id,\n",
    "                                    question_title = question_title,\n",
    "                                    tables_path = tables_path,\n",
    "                                    tables_file_name = tables_file_name,\n",
    "                                    filter_name = 'Gender'\n",
    "                                    )"
   ]
  },
  {
   "cell_type": "markdown",
   "metadata": {},
   "source": [
    "### Year at HPI"
   ]
  },
  {
   "cell_type": "code",
   "execution_count": null,
   "metadata": {},
   "outputs": [],
   "source": [
    "tw.filter_write_table_single_column(group_column_key = years_at_HPI_column_key,\n",
    "                                    dict_column_names = years_at_HPI_dictionary,\n",
    "                                    df = data_frame,\n",
    "                                    options_names_list = options_names_list,\n",
    "                                    options_code_list = options_code_list,\n",
    "                                    question_id =question_id,\n",
    "                                    question_title = question_title,\n",
    "                                    tables_path = tables_path,\n",
    "                                    tables_file_name = tables_file_name,\n",
    "                                    filter_name = 'Years at HPI'\n",
    "                                    )"
   ]
  },
  {
   "cell_type": "markdown",
   "metadata": {},
   "source": [
    "### Citizenship count and percentages "
   ]
  },
  {
   "cell_type": "code",
   "execution_count": null,
   "metadata": {},
   "outputs": [],
   "source": [
    "tw.filter_write_table_single_column(group_column_key = citizenship_column_key,\n",
    "                                    dict_column_names = citizenship_dictionary,\n",
    "                                    df = data_frame,\n",
    "                                    options_names_list = options_names_list,\n",
    "                                    options_code_list = options_code_list,\n",
    "                                    question_id =question_id,\n",
    "                                    question_title = question_title,\n",
    "                                    tables_path = tables_path,\n",
    "                                    tables_file_name = tables_file_name,\n",
    "                                    filter_name = 'Citizenship'\n",
    "                                    )"
   ]
  }
 ],
 "metadata": {
  "kernelspec": {
   "display_name": "Python 3",
   "language": "python",
   "name": "python3"
  },
  "language_info": {
   "codemirror_mode": {
    "name": "ipython",
    "version": 3
   },
   "file_extension": ".py",
   "mimetype": "text/x-python",
   "name": "python",
   "nbconvert_exporter": "python",
   "pygments_lexer": "ipython3",
   "version": "3.11.5"
  }
 },
 "nbformat": 4,
 "nbformat_minor": 2
}
