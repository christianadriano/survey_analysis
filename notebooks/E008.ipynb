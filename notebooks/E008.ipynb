{
 "cells": [
  {
   "cell_type": "markdown",
   "metadata": {},
   "source": [
    "## question id: E008"
   ]
  },
  {
   "cell_type": "code",
   "execution_count": 2,
   "metadata": {},
   "outputs": [
    {
     "name": "stdout",
     "output_type": "stream",
     "text": [
      "ID:E008, Question Title:If you hold a scientific staff position at HPI; do you think the monthly salary is competitive with other universities?\n",
      "{'E008': 'Yes No'}\n"
     ]
    }
   ],
   "source": [
    "import pandas as pd\n",
    "import configparser\n",
    "import module_table_writer as tw\n",
    "import module_data_wrangling as dw\n",
    "\n",
    "question_id = 'E008'\n",
    "selected_level = {1:'Yes',2:'No',3:'Not applicable'}\n",
    "\n",
    "#Enrolled demographic\n",
    "enrolled_column_key = 'B003'\n",
    "enrolled_column_name = 'Enrolled'\n",
    "enrolled_dictionary = {'0':'Enrolled','B003_01':'Intend to enroll','B003_02':'Intend to re-enroll'}  \n",
    "# B003_05: Do not intend to finish the PhD -> only two people and answers are mostly empty, so I removed.\n",
    "\n",
    "#Gender demographic\n",
    "gender_column_key = 'B004'\n",
    "gender_column_name = 'Gender'\n",
    "gender_dictionary = {1:'Female',2:'Male'}\n",
    "#3:'Non-binary' no one selected this option\n",
    "#4:'Diverse' only one person selected this option\n",
    "\n",
    "#Year at HPI demographic\n",
    "years_at_HPI_column_key = 'B006'\n",
    "years_at_HPI_column_name = 'Years at HPI'\n",
    "years_at_HPI_dictionary = {'B006_01':'1 year or less','B006_02':'2 years','B006_03':'3 years','B006_04':'More than 4 years'}\n",
    "\n",
    "#Citizenship demographic\n",
    "citizenship_column_key = 'B007'\n",
    "citizenship_column_name = 'Citizenship'\n",
    "citizenship_dictionary = {1:'Germany',2:'EU',3:'Non-EU'}\n",
    "\n",
    "#-----------------------------------------------------------------\n",
    "# LOAD CONFIGURATION FILE\n",
    "config = configparser.ConfigParser()\n",
    "config.read('config.ini')\n",
    "project_path = config['file.loading']['project_path']\n",
    "data_folder = config['file.loading']['data_folder']\n",
    "latex_tables_folder = config['file.loading']['latex_tables_folder']\n",
    "question_index_file = config['file.loading']['question_index_file']\n",
    "data_file = config['file.loading']['data_file']\n",
    "sep = config['file.loading']['sep']\n",
    "\n",
    "#----------------------------------------------------------------\n",
    "#LOAD QUESTION INDEX (Questions id, Question text, Answer alternatives, Details)\n",
    "question_index_path = f'{project_path}/{data_folder}/{question_index_file}'\n",
    "#print(question_index_path)\n",
    "id_data_frame = pd.read_csv(question_index_path,encoding = 'ISO-8859-1')\n",
    "filtered_index_df = id_data_frame[id_data_frame['ID']==question_id]\n",
    "question_title = filtered_index_df['Question'].iloc[0]\n",
    "\n",
    "print('ID:'+question_id+', Question Title:' + question_title)\n",
    "\n",
    "#extract the answer options for this question (it is a column)\n",
    "options_dict = dw.generate_options_dictionary(filtered_index_df,'Alternatives')\n",
    "\n",
    "#----------------------------------------------------------------\n",
    "#LOAD DATA FILE AND FILTER NECESSARY COLUMNS\n",
    "file_name_path = f'{project_path}/{data_folder}/{data_file}'\n",
    "original_data_frame = pd.read_csv(file_name_path,encoding = 'ISO-8859-1')\n",
    "\n",
    "my_list = [enrolled_column_key, gender_column_key, years_at_HPI_column_key, citizenship_column_key, question_id]\n",
    "\n",
    "# Get a list of all keys\n",
    "options_code_list = list(selected_level.keys())\n",
    "options_names_list = list(selected_level.values())\n",
    "\n",
    "selected_columns = my_list \n",
    "\n",
    "# Create a new DataFrame with only the selected columns\n",
    "data_frame = original_data_frame[selected_columns]\n",
    "\n",
    "#----------------------------------------------------------------\n",
    "#CREATE LATEX TABLE FILE\n",
    "tables_path = f'{project_path}/{latex_tables_folder}/{question_id[:2]}/'\n",
    "tables_file_name = f'{question_id}'\n"
   ]
  },
  {
   "cell_type": "markdown",
   "metadata": {},
   "source": [
    "#### All (no filter)"
   ]
  },
  {
   "cell_type": "code",
   "execution_count": null,
   "metadata": {},
   "outputs": [],
   "source": [
    "#ALL\n",
    "\n",
    "count_df = dw.percentage_options_single_column(df_data=data_frame,\n",
    "                                column_name = question_id,\n",
    "                                options_names=options_names_list,\n",
    "                                options_codes=options_code_list)\n",
    "\n",
    "if(count_df.size > 0):\n",
    "    print('Table for '+'All')\n",
    "    count_df = count_df.rename(columns={count_df.columns[0]: 'Answers'})\n",
    "    display(count_df)\n",
    "    \n",
    "    latex_table = tw.write_latex_table(data_df=count_df, \n",
    "                                    show_index=False,\n",
    "                                    filter_name='', \n",
    "                                    filter_value='All',\n",
    "                                    question_id=question_id, \n",
    "                                    question_title=question_title,\n",
    "                                    column_format='@{}lcc'\n",
    "                                    )\n",
    "    \n",
    "    tw.table_to_file(latex_table,tables_path,tables_file_name)\n",
    "else:\n",
    "    print('Table for '+'All is empty')    "
   ]
  },
  {
   "cell_type": "markdown",
   "metadata": {},
   "source": [
    "### Enrollment count and percentages"
   ]
  },
  {
   "cell_type": "code",
   "execution_count": null,
   "metadata": {},
   "outputs": [],
   "source": [
    "tw.filter_write_table_single_column(group_column_key = enrolled_column_key,\n",
    "                                    dict_column_names = enrolled_dictionary,\n",
    "                                    df = data_frame,\n",
    "                                    options_names_list = options_names_list,\n",
    "                                    options_code_list = options_code_list,\n",
    "                                    question_id =question_id,\n",
    "                                    question_title = question_title,\n",
    "                                    tables_path = tables_path,\n",
    "                                    tables_file_name = tables_file_name,\n",
    "                                    filter_name='Enrollment status'\n",
    "                                    )"
   ]
  },
  {
   "cell_type": "markdown",
   "metadata": {},
   "source": [
    "### Gender Count and percentages"
   ]
  },
  {
   "cell_type": "code",
   "execution_count": null,
   "metadata": {},
   "outputs": [],
   "source": [
    "tw.filter_write_table_single_column(group_column_key = gender_column_key,\n",
    "                                    dict_column_names = gender_dictionary,\n",
    "                                    df = data_frame,\n",
    "                                    options_names_list = options_names_list,\n",
    "                                    options_code_list = options_code_list,\n",
    "                                    question_id =question_id,\n",
    "                                    question_title = question_title,\n",
    "                                    tables_path = tables_path,\n",
    "                                    tables_file_name = tables_file_name,\n",
    "                                    filter_name = 'Gender'\n",
    "                                    )"
   ]
  },
  {
   "cell_type": "markdown",
   "metadata": {},
   "source": [
    "### Year at HPI"
   ]
  },
  {
   "cell_type": "code",
   "execution_count": null,
   "metadata": {},
   "outputs": [],
   "source": [
    "tw.filter_write_table_single_column(group_column_key = years_at_HPI_column_key,\n",
    "                                    dict_column_names = years_at_HPI_dictionary,\n",
    "                                    df = data_frame,\n",
    "                                    options_names_list = options_names_list,\n",
    "                                    options_code_list = options_code_list,\n",
    "                                    question_id =question_id,\n",
    "                                    question_title = question_title,\n",
    "                                    tables_path = tables_path,\n",
    "                                    tables_file_name = tables_file_name,\n",
    "                                    filter_name = 'Years at HPI'\n",
    "                                    )"
   ]
  },
  {
   "cell_type": "markdown",
   "metadata": {},
   "source": [
    "### Citizenship count and percentages "
   ]
  },
  {
   "cell_type": "code",
   "execution_count": 1,
   "metadata": {},
   "outputs": [
    {
     "ename": "NameError",
     "evalue": "name 'tw' is not defined",
     "output_type": "error",
     "traceback": [
      "\u001b[1;31m---------------------------------------------------------------------------\u001b[0m",
      "\u001b[1;31mNameError\u001b[0m                                 Traceback (most recent call last)",
      "Cell \u001b[1;32mIn[1], line 1\u001b[0m\n\u001b[1;32m----> 1\u001b[0m \u001b[43mtw\u001b[49m\u001b[38;5;241m.\u001b[39mfilter_write_table_single_column(group_column_key \u001b[38;5;241m=\u001b[39m citizenship_column_key,\n\u001b[0;32m      2\u001b[0m                                     dict_column_names \u001b[38;5;241m=\u001b[39m citizenship_dictionary,\n\u001b[0;32m      3\u001b[0m                                     df \u001b[38;5;241m=\u001b[39m data_frame,\n\u001b[0;32m      4\u001b[0m                                     options_names_list \u001b[38;5;241m=\u001b[39m options_names_list,\n\u001b[0;32m      5\u001b[0m                                     options_code_list \u001b[38;5;241m=\u001b[39m options_code_list,\n\u001b[0;32m      6\u001b[0m                                     question_id \u001b[38;5;241m=\u001b[39mquestion_id,\n\u001b[0;32m      7\u001b[0m                                     question_title \u001b[38;5;241m=\u001b[39m question_title,\n\u001b[0;32m      8\u001b[0m                                     tables_path \u001b[38;5;241m=\u001b[39m tables_path,\n\u001b[0;32m      9\u001b[0m                                     tables_file_name \u001b[38;5;241m=\u001b[39m tables_file_name,\n\u001b[0;32m     10\u001b[0m                                     filter_name \u001b[38;5;241m=\u001b[39m \u001b[38;5;124m'\u001b[39m\u001b[38;5;124mCitizenship\u001b[39m\u001b[38;5;124m'\u001b[39m\n\u001b[0;32m     11\u001b[0m                                     )\n",
      "\u001b[1;31mNameError\u001b[0m: name 'tw' is not defined"
     ]
    }
   ],
   "source": [
    "tw.filter_write_table_single_column(group_column_key = citizenship_column_key,\n",
    "                                    dict_column_names = citizenship_dictionary,\n",
    "                                    df = data_frame,\n",
    "                                    options_names_list = options_names_list,\n",
    "                                    options_code_list = options_code_list,\n",
    "                                    question_id =question_id,\n",
    "                                    question_title = question_title,\n",
    "                                    tables_path = tables_path,\n",
    "                                    tables_file_name = tables_file_name,\n",
    "                                    filter_name = 'Citizenship'\n",
    "                                    )"
   ]
  }
 ],
 "metadata": {
  "kernelspec": {
   "display_name": "Python 3",
   "language": "python",
   "name": "python3"
  },
  "language_info": {
   "codemirror_mode": {
    "name": "ipython",
    "version": 3
   },
   "file_extension": ".py",
   "mimetype": "text/x-python",
   "name": "python",
   "nbconvert_exporter": "python",
   "pygments_lexer": "ipython3",
   "version": "3.11.5"
  }
 },
 "nbformat": 4,
 "nbformat_minor": 2
}
